{
 "cells": [
  {
   "cell_type": "markdown",
   "metadata": {},
   "source": [
    "# Image Stacking"
   ]
  },
  {
   "cell_type": "markdown",
   "metadata": {},
   "source": [
    "https://forofotografiasalva.blogspot.com/2014/12/focus-stacking-o-enfoque-de-apilamiento.html"
   ]
  },
  {
   "cell_type": "markdown",
   "metadata": {},
   "source": [
    "El apilamiento de imágenes (image stacking) con python es rápido, eficiente y permite un filtrado personalizado durante el proceso de apilado. ¿Por qué querrías apilar imágenes? Bueno, permite \"exposiciones largas manuales\" ya que, al dejar que el obturador de la cámara permanezca abierto durante largos períodos de tiempo, puede tomar varias fotos en serie y apilar las imágenes juntas. La otra ventaja es que puede aplicar diferentes técnicas de apilamiento, como resaltar los puntos brillantes en una imagen para producir rastros de estrellas."
   ]
  },
  {
   "cell_type": "markdown",
   "metadata": {},
   "source": [
    "Entonces, ¿cómo hacemos esto en python? Esencialmente, la forma más fácil de apilar es simplemente sumar todos los valores de píxeles para todas las imágenes deseadas, y dividir por el número de imágenes, creando una imagen promedio. Sobre la base de nuestro conocimiento de PIL, podemos escribir un script a partir de la importación de las bibliotecas necesarias:"
   ]
  },
  {
   "cell_type": "markdown",
   "metadata": {},
   "source": [
    "### Introducción a PIL:"
   ]
  },
  {
   "cell_type": "markdown",
   "metadata": {},
   "source": [
    "http://onlyjus-photopy.blogspot.com/2012/09/pil-introduction-batch-image-converting.html"
   ]
  },
  {
   "cell_type": "markdown",
   "metadata": {},
   "source": [
    "Para abrir una imagen usando PIL, usamos el módulo de Imagen de PIL (en una shell interactiva o script de python):"
   ]
  },
  {
   "cell_type": "code",
   "execution_count": null,
   "metadata": {},
   "outputs": [],
   "source": [
    "from PIL import Image\n",
    "im=Image.open('./example.JPG')"
   ]
  },
  {
   "cell_type": "markdown",
   "metadata": {},
   "source": [
    "Esto crea una instancia PIL de la imagen especificada, im."
   ]
  },
  {
   "cell_type": "markdown",
   "metadata": {},
   "source": [
    "Ahora podemos usar esta instancia para realizar una variedad de tareas, como mostrar la imagen:"
   ]
  },
  {
   "cell_type": "code",
   "execution_count": null,
   "metadata": {},
   "outputs": [],
   "source": [
    "im.show()"
   ]
  },
  {
   "cell_type": "markdown",
   "metadata": {},
   "source": [
    "Girando la imagen en sentido contrario a las agujas del reloj en un ángulo especificado en grados, creando una nueva instancia de imagen de la imagen girada:"
   ]
  },
  {
   "cell_type": "code",
   "execution_count": null,
   "metadata": {},
   "outputs": [],
   "source": [
    "im2=im.rotate(45)"
   ]
  },
  {
   "cell_type": "markdown",
   "metadata": {},
   "source": [
    "Algunos de los atributos de clase serían:"
   ]
  },
  {
   "cell_type": "code",
   "execution_count": null,
   "metadata": {},
   "outputs": [],
   "source": [
    ">>> im.size\n",
    "(3872, 2592)\n",
    ">>> im.format\n",
    "'JPEG'\n",
    ">>> im.mode\n",
    "'RGB'"
   ]
  },
  {
   "cell_type": "markdown",
   "metadata": {},
   "source": [
    "Cambiar el tamaño de la imagen, preservando la relación de aspecto:"
   ]
  },
  {
   "cell_type": "code",
   "execution_count": null,
   "metadata": {},
   "outputs": [],
   "source": [
    "im.thumbnail([128,128])"
   ]
  },
  {
   "cell_type": "markdown",
   "metadata": {},
   "source": [
    "Esto redimensionará la dimensión máxima, conservando la relación de aspecto. Para controlar el esquema de interpolación del cambio de tamaño, puede pasar un argumento de filtro como NEAREST, BILINEAR, BICUBIC o ANTIALIAS (la mejor calidad):"
   ]
  },
  {
   "cell_type": "code",
   "execution_count": null,
   "metadata": {},
   "outputs": [],
   "source": [
    "im.thumbnail([128,128],Image.ANTIALIAS)"
   ]
  },
  {
   "cell_type": "markdown",
   "metadata": {},
   "source": [
    "Cambiar el tamaño de la imagen, sin conservar la relación de aspecto:"
   ]
  },
  {
   "cell_type": "code",
   "execution_count": null,
   "metadata": {},
   "outputs": [],
   "source": [
    "im.resize([128,128])"
   ]
  },
  {
   "cell_type": "markdown",
   "metadata": {},
   "source": [
    "Recortar la imagen proporcionando un cuadro de recorte en términos de: Izquierda, Superior, Derecha, Inferior; en términos de píxeles, esto también devuelve una nueva instancia de imagen:"
   ]
  },
  {
   "cell_type": "code",
   "execution_count": null,
   "metadata": {},
   "outputs": [],
   "source": [
    "im3=im.crop([10,40,400,350])"
   ]
  },
  {
   "cell_type": "markdown",
   "metadata": {},
   "source": [
    "Finalmente, guardando la imagen resultante como jpg (indicado por la extensión de archivo):"
   ]
  },
  {
   "cell_type": "code",
   "execution_count": null,
   "metadata": {},
   "outputs": [],
   "source": [
    "im.save('./exampleOut.jpg')"
   ]
  },
  {
   "cell_type": "markdown",
   "metadata": {},
   "source": [
    "También puede indicar explícitamente a la función en qué formato guardarlo (en su caso, como imagen png):"
   ]
  },
  {
   "cell_type": "code",
   "execution_count": null,
   "metadata": {},
   "outputs": [],
   "source": [
    "im.save('./exampleOut', 'PNG')\n",
    "#This will not automatically append the file extension to the file name."
   ]
  },
  {
   "cell_type": "markdown",
   "metadata": {},
   "source": [
    "### Image Stacking: Averaging (promediando)"
   ]
  },
  {
   "cell_type": "markdown",
   "metadata": {},
   "source": [
    "https://onlyjus-photopy.blogspot.com/2012/09/image-stacking.html"
   ]
  },
  {
   "cell_type": "code",
   "execution_count": null,
   "metadata": {},
   "outputs": [],
   "source": [
    "from PIL import Image\n",
    "import glob\n",
    "import numpy as np"
   ]
  },
  {
   "cell_type": "markdown",
   "metadata": {},
   "source": [
    "Se buscan todas las imágenes en una carpeta, en este caso los archivos * .png:"
   ]
  },
  {
   "cell_type": "code",
   "execution_count": null,
   "metadata": {},
   "outputs": [],
   "source": [
    "imgList = glob.glob('./*.png')"
   ]
  },
  {
   "cell_type": "markdown",
   "metadata": {},
   "source": [
    "A continuación, creamos un bucle para recorrer todas las imágenes que encontramos, sin embargo, necesitamos saber si es la primera imagen para inicializar la variable de imagen sumada:"
   ]
  },
  {
   "cell_type": "code",
   "execution_count": null,
   "metadata": {},
   "outputs": [],
   "source": [
    "first = True\n",
    "for img in imgList:"
   ]
  },
  {
   "cell_type": "markdown",
   "metadata": {},
   "source": [
    "Ahora, para la parte difícil. Observe cómo importamos numpy. El problema con el uso de la clase de imagen PIL es que el tipo de datos para los valores de píxeles RGB es unit8, o un valor entre 0 y 255. Si el valor resultante excede 255, entonces se reinicia desde 0 (es decir, 140 + 210 = 94). Esto se conoce como un desbordamiento y cambiará el color del píxel. Para superar este problema, convertiremos la imagen PIL en una matriz numpy:"
   ]
  },
  {
   "cell_type": "code",
   "execution_count": null,
   "metadata": {},
   "outputs": [],
   "source": [
    "    temp = np.asarray(Image.open(img))"
   ]
  },
  {
   "cell_type": "markdown",
   "metadata": {},
   "source": [
    "Luego, cambie el tipo de datos de la matriz. Existen varias opciones para los tipos de datos. Vamos a tratar de escoger lógicamente. Supongamos que tenemos 1000 fotos. El valor máximo para una foto es 255. Por lo tanto, necesitamos un tipo de datos que maneje un número de 1000 * 255 = 255,000. Entonces uint32 debería hacer el truco (0 a 4294967295)"
   ]
  },
  {
   "cell_type": "code",
   "execution_count": null,
   "metadata": {},
   "outputs": [],
   "source": [
    "to float:\n",
    "    temp = temp.astype('uint32')"
   ]
  },
  {
   "cell_type": "markdown",
   "metadata": {},
   "source": [
    "A continuación, tenemos que 1) crear una nueva variable para contener la suma o 2) agregar la imagen actual a la imagen sumada"
   ]
  },
  {
   "cell_type": "code",
   "execution_count": null,
   "metadata": {},
   "outputs": [],
   "source": [
    "    if first:\n",
    "        sumImage = temp\n",
    "        first = False\n",
    "    else:\n",
    "        sumImage = sumImage + temp"
   ]
  },
  {
   "cell_type": "markdown",
   "metadata": {},
   "source": [
    "Ahora calculamos la imagen promediada dividiendo la imagen sumada por el número de imágenes:"
   ]
  },
  {
   "cell_type": "code",
   "execution_count": null,
   "metadata": {},
   "outputs": [],
   "source": [
    "avgArray = sumImage/len(imgList)"
   ]
  },
  {
   "cell_type": "markdown",
   "metadata": {},
   "source": [
    "Tenemos que volver a convertir al tipo de datos unit8, luego a la clase de imagen PIL:"
   ]
  },
  {
   "cell_type": "code",
   "execution_count": null,
   "metadata": {},
   "outputs": [],
   "source": [
    "avgImg = Image.fromarray(avgArray.astype('uint8'))"
   ]
  },
  {
   "cell_type": "markdown",
   "metadata": {},
   "source": [
    "El código resultaría de la siguiente forma:"
   ]
  },
  {
   "cell_type": "code",
   "execution_count": 25,
   "metadata": {},
   "outputs": [],
   "source": [
    "from PIL import Image\n",
    "import glob\n",
    "import numpy as np"
   ]
  },
  {
   "cell_type": "code",
   "execution_count": 26,
   "metadata": {},
   "outputs": [],
   "source": [
    "imgList = glob.glob('./ImageStAverage./*jpg')"
   ]
  },
  {
   "cell_type": "code",
   "execution_count": 27,
   "metadata": {},
   "outputs": [
    {
     "name": "stdout",
     "output_type": "stream",
     "text": [
      "<class 'list'>\n",
      "19\n",
      "['./ImageStAverage.\\\\WIN_20190627_07_36_38_Pro (2).jpg', './ImageStAverage.\\\\WIN_20190627_07_36_38_Pro.jpg', './ImageStAverage.\\\\WIN_20190627_07_36_39_Pro (2).jpg', './ImageStAverage.\\\\WIN_20190627_07_36_39_Pro.jpg', './ImageStAverage.\\\\WIN_20190627_07_36_40_Pro (2).jpg', './ImageStAverage.\\\\WIN_20190627_07_36_40_Pro (3).jpg', './ImageStAverage.\\\\WIN_20190627_07_36_40_Pro.jpg', './ImageStAverage.\\\\WIN_20190627_07_36_41_Pro.jpg', './ImageStAverage.\\\\WIN_20190627_07_36_43_Pro (3).jpg', './ImageStAverage.\\\\WIN_20190627_07_36_43_Pro (4).jpg', './ImageStAverage.\\\\WIN_20190627_07_36_43_Pro.jpg', './ImageStAverage.\\\\WIN_20190627_07_36_44_Pro (2).jpg', './ImageStAverage.\\\\WIN_20190627_07_36_44_Pro (3).jpg', './ImageStAverage.\\\\WIN_20190627_07_36_44_Pro.jpg', './ImageStAverage.\\\\WIN_20190627_07_36_45_Pro (2).jpg', './ImageStAverage.\\\\WIN_20190627_07_36_45_Pro (3).jpg', './ImageStAverage.\\\\WIN_20190627_07_36_45_Pro (4).jpg', './ImageStAverage.\\\\WIN_20190627_07_36_45_Pro.jpg', './ImageStAverage.\\\\WIN_20190627_07_36_46_Pro.jpg']\n"
     ]
    }
   ],
   "source": [
    "print(type(imgList))\n",
    "print(len(imgList))\n",
    "print(imgList)"
   ]
  },
  {
   "cell_type": "code",
   "execution_count": 28,
   "metadata": {},
   "outputs": [],
   "source": [
    "def SumImg(dir):\n",
    "    first = True\n",
    "    for img in dir:\n",
    "        temp = np.asarray(Image.open(img))\n",
    "        temp = temp.astype('uint16')\n",
    "        if first:\n",
    "            sumImage = temp\n",
    "            first = False\n",
    "        else:\n",
    "            sumImage = sumImage + temp\n",
    "    return sumImage"
   ]
  },
  {
   "cell_type": "code",
   "execution_count": 29,
   "metadata": {},
   "outputs": [],
   "source": [
    "suma=SumImg(imgList)\n",
    "avgArray = suma/len(imgList)\n",
    "avgImg = Image.fromarray(avgArray.astype('uint8'))\n",
    "avgImg.show()#Se muestra la imagen"
   ]
  }
 ],
 "metadata": {
  "kernelspec": {
   "display_name": "Python 3",
   "language": "python",
   "name": "python3"
  },
  "language_info": {
   "codemirror_mode": {
    "name": "ipython",
    "version": 3
   },
   "file_extension": ".py",
   "mimetype": "text/x-python",
   "name": "python",
   "nbconvert_exporter": "python",
   "pygments_lexer": "ipython3",
   "version": "3.7.3"
  }
 },
 "nbformat": 4,
 "nbformat_minor": 2
}
