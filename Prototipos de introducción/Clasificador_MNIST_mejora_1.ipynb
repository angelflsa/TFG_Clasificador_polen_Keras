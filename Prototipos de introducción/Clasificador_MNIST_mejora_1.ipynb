{
 "cells": [
  {
   "cell_type": "markdown",
   "metadata": {},
   "source": [
    "# Clasiﬁcador de números escritos a mano:"
   ]
  },
  {
   "cell_type": "markdown",
   "metadata": {},
   "source": [
    "### Imágenes MNIST:"
   ]
  },
  {
   "cell_type": "code",
   "execution_count": 1,
   "metadata": {},
   "outputs": [
    {
     "name": "stderr",
     "output_type": "stream",
     "text": [
      "Using TensorFlow backend.\n"
     ]
    }
   ],
   "source": [
    "#Importamos la librería numpy de python como np:\n",
    "import numpy as np  \n",
    "#Se inicializa una semilla aleatoria constante para asegurarnos que la comparación de los modelos es consistente\n",
    "np.random.seed(0)  #for reproducibility            \n",
    "#Se importan todas las librerias necesarias de Keras:\n",
    "from keras.datasets import mnist #Dataset de MNIST\n",
    "#Y_train vector de 60000 elementos, con valores del 0 al 9\n",
    "#Y_test vector de 10000 elementos, con valores del 0 al 9\n",
    "(X_train, Y_train), (X_test, Y_test) = mnist.load_data() #Se almacenan las imágenes en variables\n",
    "from keras.models import Sequential \n",
    "from keras.layers import Dense, Activation\n",
    "from keras.layers import Convolution2D, MaxPooling2D\n",
    "from keras.layers import Dropout, Flatten\n",
    "from keras.utils import np_utils"
   ]
  },
  {
   "cell_type": "code",
   "execution_count": 2,
   "metadata": {},
   "outputs": [],
   "source": [
    "n_pixels = X_train.shape[1] * X_train.shape[2] #X_train.shape = (60000, 28, 28)\n",
    "#Se transorma X_train en una matriz 60000x28x28x1\n",
    "X_train = X_train.reshape(X_train.shape[0], X_train.shape[1], X_train.shape[2], 1).astype('float32') \n",
    "#Se transorma X_test en una matriz 10000x28x28x1\n",
    "X_test = X_test.reshape(X_test.shape[0], X_test.shape[1], X_test.shape[2], 1).astype('float32')\n",
    "#Normalizamos el conjunto de datos entre 0 y 1:\n",
    "X_train = X_train / 255 \n",
    "X_test = X_test / 255\n",
    "###Codificamos los vectores en matrices binarias\n",
    "#Con to_categorical se transforma en una matriz con las mismas columnas que clases. \n",
    "Y_train = np_utils.to_categorical(Y_train) \n",
    "Y_test = np_utils.to_categorical(Y_test) \n",
    "num_classes = Y_test.shape[1] #10 tipos de clases, números del 0 al 9\n",
    "#Y_test.shape = (10000, 10), Matriz 10000 fil x 10 col(=clases)"
   ]
  },
  {
   "cell_type": "markdown",
   "metadata": {},
   "source": [
    "### Modelo de CNN:"
   ]
  },
  {
   "cell_type": "markdown",
   "metadata": {},
   "source": [
    "Se va a modificar respecto al modelo inicial el número de neuronas en la capa fully-conected (de 180 a 300) y el dropout (de 0,25 a 0,15)"
   ]
  },
  {
   "cell_type": "code",
   "execution_count": 3,
   "metadata": {},
   "outputs": [],
   "source": [
    "def CNN(): \n",
    "    model = Sequential() #Se crea un modelo secuencial, capa tras capa \n",
    "    #Capa Conv:\n",
    "    model.add(Convolution2D(32, 5, 5, init='glorot_uniform', border_mode='valid', input_shape=(28, 28, 1), activation='relu')) \n",
    "    #Capa Pooling:\n",
    "    model.add(MaxPooling2D(pool_size=(2, 2))) \n",
    "    #Capa Dropout:\n",
    "    model.add(Dropout(0.15)) \n",
    "    #Capa Flatten:\n",
    "    model.add(Flatten()) \n",
    "    #Capa Fully-conected:\n",
    "    model.add(Dense(300, activation='relu')) \n",
    "    #Capa de salida:\n",
    "    model.add(Dense(num_classes, activation='softmax')) \n",
    "    #Compile calcula la función gradiente y prepara el modelo para su entrenamiento\n",
    "    #Se define el tipo de pérdida y el optimizador\n",
    "    model.compile(loss='categorical_crossentropy', optimizer='adam', metrics=['accuracy']) \n",
    "    return model\n"
   ]
  },
  {
   "cell_type": "markdown",
   "metadata": {},
   "source": [
    "### Entrenamiento de la Red CNN:"
   ]
  },
  {
   "cell_type": "code",
   "execution_count": 4,
   "metadata": {},
   "outputs": [
    {
     "name": "stdout",
     "output_type": "stream",
     "text": [
      "WARNING:tensorflow:From C:\\Users\\Angel\\Anaconda3\\lib\\site-packages\\tensorflow\\python\\framework\\op_def_library.py:263: colocate_with (from tensorflow.python.framework.ops) is deprecated and will be removed in a future version.\n",
      "Instructions for updating:\n",
      "Colocations handled automatically by placer.\n",
      "WARNING:tensorflow:From C:\\Users\\Angel\\Anaconda3\\lib\\site-packages\\keras\\backend\\tensorflow_backend.py:3445: calling dropout (from tensorflow.python.ops.nn_ops) with keep_prob is deprecated and will be removed in a future version.\n",
      "Instructions for updating:\n",
      "Please use `rate` instead of `keep_prob`. Rate should be set to `rate = 1 - keep_prob`.\n"
     ]
    },
    {
     "name": "stderr",
     "output_type": "stream",
     "text": [
      "C:\\Users\\Angel\\Anaconda3\\lib\\site-packages\\ipykernel_launcher.py:4: UserWarning: Update your `Conv2D` call to the Keras 2 API: `Conv2D(32, (5, 5), input_shape=(28, 28, 1..., activation=\"relu\", padding=\"valid\", kernel_initializer=\"glorot_uniform\")`\n",
      "  after removing the cwd from sys.path.\n"
     ]
    },
    {
     "name": "stdout",
     "output_type": "stream",
     "text": [
      "WARNING:tensorflow:From C:\\Users\\Angel\\Anaconda3\\lib\\site-packages\\tensorflow\\python\\ops\\math_ops.py:3066: to_int32 (from tensorflow.python.ops.math_ops) is deprecated and will be removed in a future version.\n",
      "Instructions for updating:\n",
      "Use tf.cast instead.\n"
     ]
    },
    {
     "name": "stderr",
     "output_type": "stream",
     "text": [
      "C:\\Users\\Angel\\Anaconda3\\lib\\site-packages\\ipykernel_launcher.py:2: UserWarning: The `nb_epoch` argument in `fit` has been renamed `epochs`.\n",
      "  \n"
     ]
    },
    {
     "name": "stdout",
     "output_type": "stream",
     "text": [
      "Train on 60000 samples, validate on 10000 samples\n",
      "Epoch 1/10\n",
      " - 39s - loss: 0.2118 - acc: 0.9396 - val_loss: 0.0662 - val_acc: 0.9797\n",
      "Epoch 2/10\n",
      " - 37s - loss: 0.0645 - acc: 0.9809 - val_loss: 0.0463 - val_acc: 0.9847\n",
      "Epoch 3/10\n",
      " - 36s - loss: 0.0444 - acc: 0.9866 - val_loss: 0.0402 - val_acc: 0.9869\n",
      "Epoch 4/10\n",
      " - 36s - loss: 0.0343 - acc: 0.9888 - val_loss: 0.0331 - val_acc: 0.9887\n",
      "Epoch 5/10\n",
      " - 37s - loss: 0.0259 - acc: 0.9914 - val_loss: 0.0347 - val_acc: 0.9898\n",
      "Epoch 6/10\n",
      " - 36s - loss: 0.0204 - acc: 0.9936 - val_loss: 0.0322 - val_acc: 0.9897\n",
      "Epoch 7/10\n",
      " - 37s - loss: 0.0171 - acc: 0.9945 - val_loss: 0.0312 - val_acc: 0.9892\n",
      "Epoch 8/10\n",
      " - 36s - loss: 0.0133 - acc: 0.9958 - val_loss: 0.0338 - val_acc: 0.9892\n",
      "Epoch 9/10\n",
      " - 36s - loss: 0.0112 - acc: 0.9966 - val_loss: 0.0332 - val_acc: 0.9898\n",
      "Epoch 10/10\n",
      " - 36s - loss: 0.0097 - acc: 0.9969 - val_loss: 0.0326 - val_acc: 0.9898\n"
     ]
    },
    {
     "data": {
      "text/plain": [
       "<keras.callbacks.History at 0x16471589e48>"
      ]
     },
     "execution_count": 4,
     "metadata": {},
     "output_type": "execute_result"
    }
   ],
   "source": [
    "model = CNN()\n",
    "model.fit(X_train, Y_train, validation_data=(X_test, Y_test), nb_epoch=10, batch_size=200, verbose=2) "
   ]
  },
  {
   "cell_type": "markdown",
   "metadata": {},
   "source": [
    "### Cálculo de la función pérdida:"
   ]
  },
  {
   "cell_type": "code",
   "execution_count": 5,
   "metadata": {},
   "outputs": [
    {
     "name": "stdout",
     "output_type": "stream",
     "text": [
      "10000/10000 [==============================] - 1s 135us/step\n",
      "Test accuracy: 0.9898\n"
     ]
    }
   ],
   "source": [
    "score = model.evaluate(X_test, Y_test, verbose=1)\n",
    "print('Test accuracy:', score[1])"
   ]
  },
  {
   "cell_type": "markdown",
   "metadata": {},
   "source": [
    "En el modelom inicial se obtenía un 98,97%. Se ha mejorado el modelo en un 0,0001%."
   ]
  }
 ],
 "metadata": {
  "kernelspec": {
   "display_name": "Python 3",
   "language": "python",
   "name": "python3"
  },
  "language_info": {
   "codemirror_mode": {
    "name": "ipython",
    "version": 3
   },
   "file_extension": ".py",
   "mimetype": "text/x-python",
   "name": "python",
   "nbconvert_exporter": "python",
   "pygments_lexer": "ipython3",
   "version": "3.7.3"
  }
 },
 "nbformat": 4,
 "nbformat_minor": 2
}
