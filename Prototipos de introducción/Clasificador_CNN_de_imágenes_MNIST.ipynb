{
 "cells": [
  {
   "cell_type": "markdown",
   "metadata": {},
   "source": [
    "# Clasiﬁcador de números escritos a mano:"
   ]
  },
  {
   "cell_type": "markdown",
   "metadata": {},
   "source": [
    "El dataset MNIST fue desarrollado para evaluar modelos de redes neuronales. Está constituido por un gran conjunto de imágenes en blanco y negro, de 28x28 píxeles. 60000 son usadas para entrenar el modelo, y 10000 para evaluarlo."
   ]
  },
  {
   "cell_type": "markdown",
   "metadata": {},
   "source": [
    "### Imágenes MNIST:"
   ]
  },
  {
   "cell_type": "markdown",
   "metadata": {},
   "source": [
    "Se importan todas las librerias y dataset necesarios:"
   ]
  },
  {
   "cell_type": "code",
   "execution_count": 1,
   "metadata": {},
   "outputs": [
    {
     "name": "stderr",
     "output_type": "stream",
     "text": [
      "Using TensorFlow backend.\n"
     ]
    }
   ],
   "source": [
    "#Importamos la librería numpy de python como np:\n",
    "import numpy as np  \n",
    "#Se inicializa una semilla aleatoria constante para asegurarnos que la comparación de los modelos es consistente\n",
    "np.random.seed(0)  #for reproducibility            \n",
    "#Se importan todas las librerias necesarias de Keras:\n",
    "from keras.datasets import mnist #Dataset de MNIST\n",
    "#Y_train vector de 60000 elementos, con valores del 0 al 9\n",
    "#Y_test vector de 10000 elementos, con valores del 0 al 9\n",
    "(X_train, Y_train), (X_test, Y_test) = mnist.load_data() #Se almacenan las imágenes en variables\n",
    "from keras.models import Sequential \n",
    "from keras.layers import Dense, Activation\n",
    "from keras.layers import Convolution2D, MaxPooling2D\n",
    "from keras.layers import Dropout, Flatten\n",
    "from keras.utils import np_utils"
   ]
  },
  {
   "cell_type": "markdown",
   "metadata": {},
   "source": [
    "Se estructura el conjunto de datos. Se trata de imágenes 28x28, lo cual dará lugar a 784 píxeles, que serán los valores de entrada. Los valores tomados en una escala de grises pueden variar de 0 a 255. En redes neuronales resulta útil normalizar los valores tomados por las entradas entre 0 y 1."
   ]
  },
  {
   "cell_type": "code",
   "execution_count": 2,
   "metadata": {},
   "outputs": [],
   "source": [
    "n_pixels = X_train.shape[1] * X_train.shape[2] #X_train.shape = (60000, 28, 28)\n",
    "#Se transorma X_train en una matriz 60000x28x28x1\n",
    "X_train = X_train.reshape(X_train.shape[0], X_train.shape[1], X_train.shape[2], 1).astype('float32') \n",
    "#Se transorma X_test en una matriz 10000x28x28x1\n",
    "X_test = X_test.reshape(X_test.shape[0], X_test.shape[1], X_test.shape[2], 1).astype('float32')\n",
    "#Normalizamos el conjunto de datos entre 0 y 1:\n",
    "X_train = X_train / 255 \n",
    "X_test = X_test / 255\n",
    "###Codificamos los vectores en matrices binarias\n",
    "#Con to_categorical se transforma en una matriz con las mismas columnas que clases. \n",
    "Y_train = np_utils.to_categorical(Y_train) \n",
    "Y_test = np_utils.to_categorical(Y_test) \n",
    "num_classes = Y_test.shape[1] #10 tipos de clases, números del 0 al 9\n",
    "#Y_test.shape = (10000, 10), Matriz 10000 fil x 10 col(=clases)"
   ]
  },
  {
   "cell_type": "markdown",
   "metadata": {},
   "source": [
    "### Modelo de CNN:"
   ]
  },
  {
   "cell_type": "markdown",
   "metadata": {},
   "source": [
    "Se crea el modelo de Red CNN que clasificará las imágenes. Consta de las siguientes capas:"
   ]
  },
  {
   "cell_type": "markdown",
   "metadata": {},
   "source": [
    "   -CAPA CONVOLUCIONAL: 32 mapeadores de 5x5."
   ]
  },
  {
   "cell_type": "markdown",
   "metadata": {},
   "source": [
    "   -CAPA POOLING: capa de reducción de dimensiones 2x2 que actuará quedandose con el valor máximo (función MaxPooling)  "
   ]
  },
  {
   "cell_type": "markdown",
   "metadata": {},
   "source": [
    "   -CAPA DROPOUT: durante el entrenamiento, excluye aleatoriamente el número (en tanto por uno) que se le indique de las neuronas de la capa, para reducir el sobreajuste."
   ]
  },
  {
   "cell_type": "markdown",
   "metadata": {},
   "source": [
    "   -CAPA FLATTEN: Necesaria para que la salida pueda ser procesada por una capa fully-conected. Transforma la matriz de 2 dimensiones en un vector."
   ]
  },
  {
   "cell_type": "markdown",
   "metadata": {},
   "source": [
    "   -CAPA FULLY-CONECTED: formada por 128 neuronas, con función de activación relu (rectificadora)."
   ]
  },
  {
   "cell_type": "markdown",
   "metadata": {},
   "source": [
    "   -CAPA SALIDA: formada por 10 neuronas, correspondientes a las clases (números del 0 al 9). "
   ]
  },
  {
   "cell_type": "code",
   "execution_count": 3,
   "metadata": {},
   "outputs": [],
   "source": [
    "def CNN(): \n",
    "    model = Sequential() #Se crea un modelo secuencial, capa tras capa \n",
    "    #Capa Conv:\n",
    "    model.add(Convolution2D(32, 5, 5, init='glorot_uniform', border_mode='valid', input_shape=(28, 28, 1), activation='relu')) \n",
    "    #Capa Pooling:\n",
    "    model.add(MaxPooling2D(pool_size=(2, 2))) \n",
    "    #Capa Dropout:\n",
    "    model.add(Dropout(0.25)) \n",
    "    #Capa Flatten:\n",
    "    model.add(Flatten()) \n",
    "    #Capa Fully-conected:\n",
    "    model.add(Dense(128, activation='relu')) \n",
    "    #Capa de salida:\n",
    "    model.add(Dense(num_classes, activation='softmax')) \n",
    "    #Compile calcula la función gradiente y prepara el modelo para su entrenamiento\n",
    "    #Se define el tipo de pérdida y el optimizador\n",
    "    model.compile(loss='categorical_crossentropy', optimizer='adam', metrics=['accuracy']) \n",
    "    return model\n"
   ]
  },
  {
   "cell_type": "markdown",
   "metadata": {},
   "source": [
    "### Entrenamiento de la Red CNN:"
   ]
  },
  {
   "cell_type": "markdown",
   "metadata": {},
   "source": [
    "El método básico de entrenamiento dentro del modelo secuencial es fit(self, x, y, batch_size=32, nb_epoch=10, verbose=1, callbacks=[], validation_split=0.0, validation_data=None, shuffle=True, class_weight=None, sample_weight=None)."
   ]
  },
  {
   "cell_type": "markdown",
   "metadata": {},
   "source": [
    "Con este método se puede fijar el número de ciclos (nb_epoch), con actualizaciones de gradiente cada batch_size ejemplos."
   ]
  },
  {
   "cell_type": "code",
   "execution_count": 4,
   "metadata": {},
   "outputs": [
    {
     "name": "stdout",
     "output_type": "stream",
     "text": [
      "WARNING:tensorflow:From C:\\Users\\Angel\\Anaconda3\\lib\\site-packages\\tensorflow\\python\\framework\\op_def_library.py:263: colocate_with (from tensorflow.python.framework.ops) is deprecated and will be removed in a future version.\n",
      "Instructions for updating:\n",
      "Colocations handled automatically by placer.\n",
      "WARNING:tensorflow:From C:\\Users\\Angel\\Anaconda3\\lib\\site-packages\\keras\\backend\\tensorflow_backend.py:3445: calling dropout (from tensorflow.python.ops.nn_ops) with keep_prob is deprecated and will be removed in a future version.\n",
      "Instructions for updating:\n",
      "Please use `rate` instead of `keep_prob`. Rate should be set to `rate = 1 - keep_prob`.\n",
      "WARNING:tensorflow:From C:\\Users\\Angel\\Anaconda3\\lib\\site-packages\\tensorflow\\python\\ops\\math_ops.py:3066: to_int32 (from tensorflow.python.ops.math_ops) is deprecated and will be removed in a future version.\n",
      "Instructions for updating:\n",
      "Use tf.cast instead.\n"
     ]
    },
    {
     "name": "stderr",
     "output_type": "stream",
     "text": [
      "C:\\Users\\Angel\\Anaconda3\\lib\\site-packages\\ipykernel_launcher.py:4: UserWarning: Update your `Conv2D` call to the Keras 2 API: `Conv2D(32, (5, 5), input_shape=(28, 28, 1..., activation=\"relu\", padding=\"valid\", kernel_initializer=\"glorot_uniform\")`\n",
      "  after removing the cwd from sys.path.\n",
      "C:\\Users\\Angel\\Anaconda3\\lib\\site-packages\\ipykernel_launcher.py:2: UserWarning: The `nb_epoch` argument in `fit` has been renamed `epochs`.\n",
      "  \n"
     ]
    },
    {
     "name": "stdout",
     "output_type": "stream",
     "text": [
      "Train on 60000 samples, validate on 10000 samples\n",
      "Epoch 1/10\n",
      " - 21s - loss: 0.2540 - acc: 0.9282 - val_loss: 0.0832 - val_acc: 0.9755\n",
      "Epoch 2/10\n",
      " - 20s - loss: 0.0803 - acc: 0.9763 - val_loss: 0.0549 - val_acc: 0.9828\n",
      "Epoch 3/10\n",
      " - 19s - loss: 0.0557 - acc: 0.9831 - val_loss: 0.0479 - val_acc: 0.9849\n",
      "Epoch 4/10\n",
      " - 19s - loss: 0.0453 - acc: 0.9858 - val_loss: 0.0384 - val_acc: 0.9865\n",
      "Epoch 5/10\n",
      " - 19s - loss: 0.0358 - acc: 0.9888 - val_loss: 0.0365 - val_acc: 0.9887\n",
      "Epoch 6/10\n",
      " - 19s - loss: 0.0308 - acc: 0.9901 - val_loss: 0.0345 - val_acc: 0.9880\n",
      "Epoch 7/10\n",
      " - 20s - loss: 0.0265 - acc: 0.9917 - val_loss: 0.0323 - val_acc: 0.9890\n",
      "Epoch 8/10\n",
      " - 19s - loss: 0.0224 - acc: 0.9927 - val_loss: 0.0381 - val_acc: 0.9880\n",
      "Epoch 9/10\n",
      " - 20s - loss: 0.0188 - acc: 0.9941 - val_loss: 0.0335 - val_acc: 0.9890\n",
      "Epoch 10/10\n",
      " - 19s - loss: 0.0158 - acc: 0.9952 - val_loss: 0.0312 - val_acc: 0.9897\n"
     ]
    },
    {
     "data": {
      "text/plain": [
       "<keras.callbacks.History at 0x1a30f1f9f98>"
      ]
     },
     "execution_count": 4,
     "metadata": {},
     "output_type": "execute_result"
    }
   ],
   "source": [
    "model = CNN()\n",
    "model.fit(X_train, Y_train, validation_data=(X_test, Y_test), nb_epoch=10, batch_size=200, verbose=2) "
   ]
  },
  {
   "cell_type": "markdown",
   "metadata": {},
   "source": [
    "### Cálculo de la función pérdida:"
   ]
  },
  {
   "cell_type": "markdown",
   "metadata": {},
   "source": [
    "El método evaluate(self, x, y, batch_size=32, verbose=1, sample_weight=None) se encarga de calcular la función de pérdidadados unos datos de entrada."
   ]
  },
  {
   "cell_type": "code",
   "execution_count": 5,
   "metadata": {},
   "outputs": [
    {
     "name": "stdout",
     "output_type": "stream",
     "text": [
      "10000/10000 [==============================] - 1s 77us/step\n",
      "Test accuracy: 0.9897\n"
     ]
    }
   ],
   "source": [
    "score = model.evaluate(X_test, Y_test, verbose=1)\n",
    "print('Test accuracy:', score[1])"
   ]
  }
 ],
 "metadata": {
  "kernelspec": {
   "display_name": "Python 3",
   "language": "python",
   "name": "python3"
  },
  "language_info": {
   "codemirror_mode": {
    "name": "ipython",
    "version": 3
   },
   "file_extension": ".py",
   "mimetype": "text/x-python",
   "name": "python",
   "nbconvert_exporter": "python",
   "pygments_lexer": "ipython3",
   "version": "3.7.3"
  }
 },
 "nbformat": 4,
 "nbformat_minor": 2
}
