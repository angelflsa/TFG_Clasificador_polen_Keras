{
 "cells": [
  {
   "cell_type": "markdown",
   "metadata": {},
   "source": [
    "# Clasificador polen (Telmu) a partir de una red pre-entrenada:"
   ]
  },
  {
   "cell_type": "markdown",
   "metadata": {},
   "source": [
    "### GPU disponible:"
   ]
  },
  {
   "cell_type": "code",
   "execution_count": 1,
   "metadata": {},
   "outputs": [
    {
     "name": "stdout",
     "output_type": "stream",
     "text": [
      "TensorFlow Version: 1.13.1\n",
      "Default GPU Device: /device:GPU:0\n"
     ]
    }
   ],
   "source": [
    "from distutils.version import LooseVersion\n",
    "import warnings\n",
    "import tensorflow as tf\n",
    "\n",
    "# Check TensorFlow Version\n",
    "assert LooseVersion(tf.__version__) >= LooseVersion('1.0'), 'Please use TensorFlow version 1.0 or newer.  You are using {}'.format(tf.__version__)\n",
    "print('TensorFlow Version: {}'.format(tf.__version__))\n",
    "\n",
    "# Check for a GPU\n",
    "if not tf.test.gpu_device_name():\n",
    "    warnings.warn('No GPU found. Please ensure you have installed TensorFlow correctly')\n",
    "else:\n",
    "    print('Default GPU Device: {}'.format(tf.test.gpu_device_name()))"
   ]
  },
  {
   "cell_type": "markdown",
   "metadata": {},
   "source": [
    "### Modelo VGG16:"
   ]
  },
  {
   "cell_type": "code",
   "execution_count": 2,
   "metadata": {},
   "outputs": [
    {
     "name": "stderr",
     "output_type": "stream",
     "text": [
      "Using TensorFlow backend.\n"
     ]
    }
   ],
   "source": [
    "import sys\n",
    "import os\n",
    "from PIL import Image\n",
    "from keras.preprocessing.image import ImageDataGenerator\n",
    "from keras import optimizers\n",
    "from keras.models import Sequential\n",
    "from keras.layers import Dropout, Flatten, Dense, Activation\n",
    "from keras.layers import  Convolution2D, MaxPooling2D, Dense, GlobalAveragePooling2D, AveragePooling2D\n",
    "from keras.models import Model\n",
    "from keras import backend as K\n",
    "from keras import applications\n",
    "K.clear_session()"
   ]
  },
  {
   "cell_type": "markdown",
   "metadata": {},
   "source": [
    "Se carga el modelo InceptionResNetV2: "
   ]
  },
  {
   "cell_type": "markdown",
   "metadata": {},
   "source": [
    "keras.applications.inception_resnet_v2.InceptionResNetV2(include_top=True, weights='imagenet', input_tensor=None, input_shape=None, pooling=None, classes=1000)"
   ]
  },
  {
   "cell_type": "markdown",
   "metadata": {},
   "source": [
    "Este modelo contiene los pesos obtenidos con el pre-entrenamiento en ImageNet. Por defecto, establece una imagen de entrada de 299x299."
   ]
  },
  {
   "cell_type": "code",
   "execution_count": 3,
   "metadata": {},
   "outputs": [
    {
     "name": "stdout",
     "output_type": "stream",
     "text": [
      "WARNING:tensorflow:From C:\\Users\\Angel\\Anaconda3\\envs\\tensorflowGPU\\lib\\site-packages\\tensorflow\\python\\framework\\op_def_library.py:263: colocate_with (from tensorflow.python.framework.ops) is deprecated and will be removed in a future version.\n",
      "Instructions for updating:\n",
      "Colocations handled automatically by placer.\n",
      "_________________________________________________________________\n",
      "Layer (type)                 Output Shape              Param #   \n",
      "=================================================================\n",
      "input_1 (InputLayer)         (None, 256, 256, 3)       0         \n",
      "_________________________________________________________________\n",
      "block1_conv1 (Conv2D)        (None, 256, 256, 64)      1792      \n",
      "_________________________________________________________________\n",
      "block1_conv2 (Conv2D)        (None, 256, 256, 64)      36928     \n",
      "_________________________________________________________________\n",
      "block1_pool (MaxPooling2D)   (None, 128, 128, 64)      0         \n",
      "_________________________________________________________________\n",
      "block2_conv1 (Conv2D)        (None, 128, 128, 128)     73856     \n",
      "_________________________________________________________________\n",
      "block2_conv2 (Conv2D)        (None, 128, 128, 128)     147584    \n",
      "_________________________________________________________________\n",
      "block2_pool (MaxPooling2D)   (None, 64, 64, 128)       0         \n",
      "_________________________________________________________________\n",
      "block3_conv1 (Conv2D)        (None, 64, 64, 256)       295168    \n",
      "_________________________________________________________________\n",
      "block3_conv2 (Conv2D)        (None, 64, 64, 256)       590080    \n",
      "_________________________________________________________________\n",
      "block3_conv3 (Conv2D)        (None, 64, 64, 256)       590080    \n",
      "_________________________________________________________________\n",
      "block3_pool (MaxPooling2D)   (None, 32, 32, 256)       0         \n",
      "_________________________________________________________________\n",
      "block4_conv1 (Conv2D)        (None, 32, 32, 512)       1180160   \n",
      "_________________________________________________________________\n",
      "block4_conv2 (Conv2D)        (None, 32, 32, 512)       2359808   \n",
      "_________________________________________________________________\n",
      "block4_conv3 (Conv2D)        (None, 32, 32, 512)       2359808   \n",
      "_________________________________________________________________\n",
      "block4_pool (MaxPooling2D)   (None, 16, 16, 512)       0         \n",
      "_________________________________________________________________\n",
      "block5_conv1 (Conv2D)        (None, 16, 16, 512)       2359808   \n",
      "_________________________________________________________________\n",
      "block5_conv2 (Conv2D)        (None, 16, 16, 512)       2359808   \n",
      "_________________________________________________________________\n",
      "block5_conv3 (Conv2D)        (None, 16, 16, 512)       2359808   \n",
      "_________________________________________________________________\n",
      "block5_pool (MaxPooling2D)   (None, 8, 8, 512)         0         \n",
      "=================================================================\n",
      "Total params: 14,714,688\n",
      "Trainable params: 14,714,688\n",
      "Non-trainable params: 0\n",
      "_________________________________________________________________\n"
     ]
    }
   ],
   "source": [
    "baseModel = applications.vgg16.VGG16(weights=\"imagenet\", include_top=False, input_shape=(256, 256, 3))#Cargamos la red\n",
    "baseModel.summary()#Muestra el contenido de la red."
   ]
  },
  {
   "cell_type": "markdown",
   "metadata": {},
   "source": [
    "Se ha pasado como argumento include_top=False. La red VGG16 que aporta keras contiene por defecto una última capa de predicción de mil neuronas (para clasificar mil clases diferentes). La red que se busca solo clasificará dos clases diferentes. Con include_top=False se elimina esta última capa. En la siguiente línea de código se carga la red al completo:"
   ]
  },
  {
   "cell_type": "markdown",
   "metadata": {},
   "source": [
    "### Modificación de la última capa:"
   ]
  },
  {
   "cell_type": "markdown",
   "metadata": {},
   "source": [
    "Se diseña la capa de salida para realizar la clasificación. Constará de:"
   ]
  },
  {
   "cell_type": "markdown",
   "metadata": {},
   "source": [
    "Capa GlobalAveragePooling2D."
   ]
  },
  {
   "cell_type": "markdown",
   "metadata": {},
   "source": [
    "Capa tipo Dense de 1000 neuronas y activación rectificador (relu)"
   ]
  },
  {
   "cell_type": "code",
   "execution_count": 4,
   "metadata": {},
   "outputs": [
    {
     "name": "stdout",
     "output_type": "stream",
     "text": [
      "WARNING:tensorflow:From C:\\Users\\Angel\\Anaconda3\\envs\\tensorflowGPU\\lib\\site-packages\\keras\\backend\\tensorflow_backend.py:3445: calling dropout (from tensorflow.python.ops.nn_ops) with keep_prob is deprecated and will be removed in a future version.\n",
      "Instructions for updating:\n",
      "Please use `rate` instead of `keep_prob`. Rate should be set to `rate = 1 - keep_prob`.\n"
     ]
    }
   ],
   "source": [
    "headModel = baseModel.output\n",
    "headModel = GlobalAveragePooling2D()(headModel)\n",
    "headModel = Dense(512, activation=\"relu\")(headModel)\n",
    "headModel = Dropout(0.3)(headModel)\n",
    "headModel = Dense(3, activation=\"softmax\")(headModel)\n",
    "\n",
    "# add a global spatial average pooling layer\n",
    "#x = InceptionResNetV2.output\n",
    "#x = GlobalAveragePooling2D()(x)\n",
    "# let's add a fully-connected layer\n",
    "#x = Dense(800, activation='relu')(x)\n",
    "#To reduce overfitting...\n",
    "#x = Dropout(0.5)(x)\n",
    "# and a logistic layer -- let's say we have 3 classes\n",
    "#predictions = Dense(2, activation='softmax')(x)\n",
    "#model = Model(inputs=InceptionResNetV2.input, outputs=predictions)\n",
    "\n",
    "model = Model(inputs=baseModel.input, outputs=headModel)"
   ]
  },
  {
   "cell_type": "code",
   "execution_count": 5,
   "metadata": {},
   "outputs": [
    {
     "name": "stdout",
     "output_type": "stream",
     "text": [
      "_________________________________________________________________\n",
      "Layer (type)                 Output Shape              Param #   \n",
      "=================================================================\n",
      "input_1 (InputLayer)         (None, 256, 256, 3)       0         \n",
      "_________________________________________________________________\n",
      "block1_conv1 (Conv2D)        (None, 256, 256, 64)      1792      \n",
      "_________________________________________________________________\n",
      "block1_conv2 (Conv2D)        (None, 256, 256, 64)      36928     \n",
      "_________________________________________________________________\n",
      "block1_pool (MaxPooling2D)   (None, 128, 128, 64)      0         \n",
      "_________________________________________________________________\n",
      "block2_conv1 (Conv2D)        (None, 128, 128, 128)     73856     \n",
      "_________________________________________________________________\n",
      "block2_conv2 (Conv2D)        (None, 128, 128, 128)     147584    \n",
      "_________________________________________________________________\n",
      "block2_pool (MaxPooling2D)   (None, 64, 64, 128)       0         \n",
      "_________________________________________________________________\n",
      "block3_conv1 (Conv2D)        (None, 64, 64, 256)       295168    \n",
      "_________________________________________________________________\n",
      "block3_conv2 (Conv2D)        (None, 64, 64, 256)       590080    \n",
      "_________________________________________________________________\n",
      "block3_conv3 (Conv2D)        (None, 64, 64, 256)       590080    \n",
      "_________________________________________________________________\n",
      "block3_pool (MaxPooling2D)   (None, 32, 32, 256)       0         \n",
      "_________________________________________________________________\n",
      "block4_conv1 (Conv2D)        (None, 32, 32, 512)       1180160   \n",
      "_________________________________________________________________\n",
      "block4_conv2 (Conv2D)        (None, 32, 32, 512)       2359808   \n",
      "_________________________________________________________________\n",
      "block4_conv3 (Conv2D)        (None, 32, 32, 512)       2359808   \n",
      "_________________________________________________________________\n",
      "block4_pool (MaxPooling2D)   (None, 16, 16, 512)       0         \n",
      "_________________________________________________________________\n",
      "block5_conv1 (Conv2D)        (None, 16, 16, 512)       2359808   \n",
      "_________________________________________________________________\n",
      "block5_conv2 (Conv2D)        (None, 16, 16, 512)       2359808   \n",
      "_________________________________________________________________\n",
      "block5_conv3 (Conv2D)        (None, 16, 16, 512)       2359808   \n",
      "_________________________________________________________________\n",
      "block5_pool (MaxPooling2D)   (None, 8, 8, 512)         0         \n",
      "_________________________________________________________________\n",
      "global_average_pooling2d_1 ( (None, 512)               0         \n",
      "_________________________________________________________________\n",
      "dense_1 (Dense)              (None, 512)               262656    \n",
      "_________________________________________________________________\n",
      "dropout_1 (Dropout)          (None, 512)               0         \n",
      "_________________________________________________________________\n",
      "dense_2 (Dense)              (None, 3)                 1539      \n",
      "=================================================================\n",
      "Total params: 14,978,883\n",
      "Trainable params: 14,978,883\n",
      "Non-trainable params: 0\n",
      "_________________________________________________________________\n"
     ]
    }
   ],
   "source": [
    "model.summary()"
   ]
  },
  {
   "cell_type": "code",
   "execution_count": 6,
   "metadata": {},
   "outputs": [
    {
     "data": {
      "text/plain": [
       "[<keras.engine.input_layer.InputLayer at 0x1a71fcb7d68>,\n",
       " <keras.layers.convolutional.Conv2D at 0x1a724fb6908>,\n",
       " <keras.layers.convolutional.Conv2D at 0x1a72fb04a90>,\n",
       " <keras.layers.pooling.MaxPooling2D at 0x1a72fb55240>,\n",
       " <keras.layers.convolutional.Conv2D at 0x1a72fb55940>,\n",
       " <keras.layers.convolutional.Conv2D at 0x1a72fb74dd8>,\n",
       " <keras.layers.pooling.MaxPooling2D at 0x1a72fba6cf8>,\n",
       " <keras.layers.convolutional.Conv2D at 0x1a72fba6eb8>,\n",
       " <keras.layers.convolutional.Conv2D at 0x1a72fe11d30>,\n",
       " <keras.layers.convolutional.Conv2D at 0x1a72fe275c0>,\n",
       " <keras.layers.pooling.MaxPooling2D at 0x1a73003bdd8>,\n",
       " <keras.layers.convolutional.Conv2D at 0x1a73003b400>,\n",
       " <keras.layers.convolutional.Conv2D at 0x1a73006f978>,\n",
       " <keras.layers.convolutional.Conv2D at 0x1a7300a3a58>,\n",
       " <keras.layers.pooling.MaxPooling2D at 0x1a7300bbd30>,\n",
       " <keras.layers.convolutional.Conv2D at 0x1a7300bb8d0>,\n",
       " <keras.layers.convolutional.Conv2D at 0x1a7306b1400>,\n",
       " <keras.layers.convolutional.Conv2D at 0x1a7306c81d0>,\n",
       " <keras.layers.pooling.MaxPooling2D at 0x1a7306f9cc0>,\n",
       " <keras.layers.pooling.GlobalAveragePooling2D at 0x1a73be9dba8>,\n",
       " <keras.layers.core.Dense at 0x1a73be9dbe0>,\n",
       " <keras.layers.core.Dropout at 0x1a73be9dc18>,\n",
       " <keras.layers.core.Dense at 0x1a73beaa2b0>]"
      ]
     },
     "execution_count": 6,
     "metadata": {},
     "output_type": "execute_result"
    }
   ],
   "source": [
    "model.layers"
   ]
  },
  {
   "cell_type": "markdown",
   "metadata": {},
   "source": [
    "### Congelación de capas:"
   ]
  },
  {
   "cell_type": "markdown",
   "metadata": {},
   "source": [
    "Se ha cargado la red pre-entrenada InceptionResNetV2, con los pesos de Imagenet. De esta forma las capas convolucionales y pooling que la forman actuarán como diferenciadoras de características, que serán usadas por la capa final que se ha incluido para realizar la clasificación."
   ]
  },
  {
   "cell_type": "markdown",
   "metadata": {},
   "source": [
    "Por tanto, se va a usar una red que ya ha 'aprendido' a clasificar en otros problemas, y se va a adaptar para el problema que aquí se trata (TRANSFER LEARNING)."
   ]
  },
  {
   "cell_type": "markdown",
   "metadata": {},
   "source": [
    "Es por esto que no es necesario entrenar todas las capas de la red, y solo se entrenarán las 3 capas que se han añadido, congelando las demás."
   ]
  },
  {
   "cell_type": "code",
   "execution_count": 7,
   "metadata": {},
   "outputs": [
    {
     "name": "stdout",
     "output_type": "stream",
     "text": [
      "0 input_1\n",
      "1 block1_conv1\n",
      "2 block1_conv2\n",
      "3 block1_pool\n",
      "4 block2_conv1\n",
      "5 block2_conv2\n",
      "6 block2_pool\n",
      "7 block3_conv1\n",
      "8 block3_conv2\n",
      "9 block3_conv3\n",
      "10 block3_pool\n",
      "11 block4_conv1\n",
      "12 block4_conv2\n",
      "13 block4_conv3\n",
      "14 block4_pool\n",
      "15 block5_conv1\n",
      "16 block5_conv2\n",
      "17 block5_conv3\n",
      "18 block5_pool\n",
      "19 global_average_pooling2d_1\n",
      "20 dense_1\n",
      "21 dropout_1\n",
      "22 dense_2\n"
     ]
    }
   ],
   "source": [
    "# let's visualize layer names and layer indices to see how many layers\n",
    "# we should freeze:\n",
    "for i, layer in enumerate(model.layers):\n",
    "   print(i, layer.name)"
   ]
  },
  {
   "cell_type": "code",
   "execution_count": 8,
   "metadata": {},
   "outputs": [],
   "source": [
    "#for layer in model.layers[:780]:\n",
    "#   layer.trainable = False\n",
    "#for layer in model.layers[780:]:\n",
    "#   layer.trainable = True\n",
    "for layer in baseModel.layers:\n",
    "    layer.trainable = False"
   ]
  },
  {
   "cell_type": "code",
   "execution_count": 9,
   "metadata": {},
   "outputs": [
    {
     "name": "stdout",
     "output_type": "stream",
     "text": [
      "_________________________________________________________________\n",
      "Layer (type)                 Output Shape              Param #   \n",
      "=================================================================\n",
      "input_1 (InputLayer)         (None, 256, 256, 3)       0         \n",
      "_________________________________________________________________\n",
      "block1_conv1 (Conv2D)        (None, 256, 256, 64)      1792      \n",
      "_________________________________________________________________\n",
      "block1_conv2 (Conv2D)        (None, 256, 256, 64)      36928     \n",
      "_________________________________________________________________\n",
      "block1_pool (MaxPooling2D)   (None, 128, 128, 64)      0         \n",
      "_________________________________________________________________\n",
      "block2_conv1 (Conv2D)        (None, 128, 128, 128)     73856     \n",
      "_________________________________________________________________\n",
      "block2_conv2 (Conv2D)        (None, 128, 128, 128)     147584    \n",
      "_________________________________________________________________\n",
      "block2_pool (MaxPooling2D)   (None, 64, 64, 128)       0         \n",
      "_________________________________________________________________\n",
      "block3_conv1 (Conv2D)        (None, 64, 64, 256)       295168    \n",
      "_________________________________________________________________\n",
      "block3_conv2 (Conv2D)        (None, 64, 64, 256)       590080    \n",
      "_________________________________________________________________\n",
      "block3_conv3 (Conv2D)        (None, 64, 64, 256)       590080    \n",
      "_________________________________________________________________\n",
      "block3_pool (MaxPooling2D)   (None, 32, 32, 256)       0         \n",
      "_________________________________________________________________\n",
      "block4_conv1 (Conv2D)        (None, 32, 32, 512)       1180160   \n",
      "_________________________________________________________________\n",
      "block4_conv2 (Conv2D)        (None, 32, 32, 512)       2359808   \n",
      "_________________________________________________________________\n",
      "block4_conv3 (Conv2D)        (None, 32, 32, 512)       2359808   \n",
      "_________________________________________________________________\n",
      "block4_pool (MaxPooling2D)   (None, 16, 16, 512)       0         \n",
      "_________________________________________________________________\n",
      "block5_conv1 (Conv2D)        (None, 16, 16, 512)       2359808   \n",
      "_________________________________________________________________\n",
      "block5_conv2 (Conv2D)        (None, 16, 16, 512)       2359808   \n",
      "_________________________________________________________________\n",
      "block5_conv3 (Conv2D)        (None, 16, 16, 512)       2359808   \n",
      "_________________________________________________________________\n",
      "block5_pool (MaxPooling2D)   (None, 8, 8, 512)         0         \n",
      "_________________________________________________________________\n",
      "global_average_pooling2d_1 ( (None, 512)               0         \n",
      "_________________________________________________________________\n",
      "dense_1 (Dense)              (None, 512)               262656    \n",
      "_________________________________________________________________\n",
      "dropout_1 (Dropout)          (None, 512)               0         \n",
      "_________________________________________________________________\n",
      "dense_2 (Dense)              (None, 3)                 1539      \n",
      "=================================================================\n",
      "Total params: 14,978,883\n",
      "Trainable params: 264,195\n",
      "Non-trainable params: 14,714,688\n",
      "_________________________________________________________________\n"
     ]
    }
   ],
   "source": [
    "model.summary()"
   ]
  },
  {
   "cell_type": "markdown",
   "metadata": {},
   "source": [
    "### Tratamiento de las imágenes:"
   ]
  },
  {
   "cell_type": "markdown",
   "metadata": {},
   "source": [
    "Se necesita adaptar el conjunto de imágenes para poder ser tratado por el modelo. Para ello se van a usar las funciones flow_from_directory() y ImageDataGenerator()."
   ]
  },
  {
   "cell_type": "code",
   "execution_count": 10,
   "metadata": {},
   "outputs": [],
   "source": [
    "#Se almacenan en variables los directorios en los que se encuentran las imágenes\n",
    "data_entrenamiento = './data_polen/entrenamiento'\n",
    "data_validacion = './data_polen/validacion'\n",
    "\n",
    "#Parámetros importantes:\n",
    "epocas=80\n",
    "longitud, altura = 256, 256\n",
    "batch_size = 16 #Imágenes a procesar en cada paso\n",
    "pasos = 10\n",
    "clases = 3\n",
    "lr = 1e-4 #Learning rate\n",
    "momentum = 0.9"
   ]
  },
  {
   "cell_type": "markdown",
   "metadata": {},
   "source": [
    "flow_from_directory(directory, target_size=(256, 256), color_mode='rgb', classes=None, class_mode='categorical', batch_size=32, shuffle=True, seed=None, save_to_dir=None, save_prefix='', save_format='png', follow_links=False, subset=None, interpolation='nearest')"
   ]
  },
  {
   "cell_type": "markdown",
   "metadata": {},
   "source": [
    "Con la función flow_from_directory() se pre-procesan las imágenes que se encuentran en los directorios previamente declarados. Además se le puede pasar como parámetros el tamaño al que se redimensionan las imágenes, o el algoritmo de interpolación."
   ]
  },
  {
   "cell_type": "markdown",
   "metadata": {},
   "source": [
    "keras.preprocessing.image.ImageDataGenerator(featurewise_center=False, samplewise_center=False, featurewise_std_normalization=False, samplewise_std_normalization=False, zca_whitening=False, zca_epsilon=1e-06, rotation_range=0, width_shift_range=0.0, height_shift_range=0.0, brightness_range=None, shear_range=0.0, zoom_range=0.0, channel_shift_range=0.0, fill_mode='nearest', cval=0.0, horizontal_flip=False, vertical_flip=False, rescale=None, preprocessing_function=None, data_format=None, validation_split=0.0, dtype=None)"
   ]
  },
  {
   "cell_type": "markdown",
   "metadata": {},
   "source": [
    "Gracias a la función ImageDataGenerator() se aplica al set de entrenamiento mecanismos de DATA ARGUMENTATION como inclinar, hacer zoom o invertir las imágenes."
   ]
  },
  {
   "cell_type": "code",
   "execution_count": 11,
   "metadata": {},
   "outputs": [
    {
     "name": "stdout",
     "output_type": "stream",
     "text": [
      "Found 180 images belonging to 3 classes.\n",
      "Found 54 images belonging to 3 classes.\n",
      "{'Muestra1': 0, 'Muestra10': 1, 'Muestra6': 2}\n"
     ]
    }
   ],
   "source": [
    "###Procesamiento del conjunto de entrenamieto:\n",
    "entrenamiento_datagen = ImageDataGenerator(\n",
    "    rescale=1. / 255, \n",
    "    rotation_range=40,\n",
    "    width_shift_range=0.2,\n",
    "    height_shift_range=0.2,\n",
    "    shear_range=0.2, #Inclina las imágenes\n",
    "    zoom_range=0.2, #Zoom a algunas imágenes\n",
    "    horizontal_flip=True) #Invierte imágenes para distinguir direcionalidad\n",
    "\n",
    "###Procesamiento del conjunto de validación:\n",
    "#No es necesario inclinar, hacer zoom ni invertir las imágenes.\n",
    "test_datagen = ImageDataGenerator(rescale=1. / 255)\n",
    "\n",
    "###Generación del conjunto de entrenamieto:\n",
    "entrenamiento_generador = entrenamiento_datagen.flow_from_directory(\n",
    "    data_entrenamiento,\n",
    "    target_size=(altura, longitud),\n",
    "    batch_size=batch_size,\n",
    "    class_mode='categorical') #Se busca una clasificación categórica\n",
    "\n",
    "###Generación del conjunto de validación:\n",
    "validacion_generador = test_datagen.flow_from_directory(\n",
    "    data_validacion,\n",
    "    target_size=(altura, longitud),\n",
    "    batch_size=batch_size,\n",
    "    class_mode='categorical')\n",
    "\n",
    "print(entrenamiento_generador.class_indices)"
   ]
  },
  {
   "cell_type": "markdown",
   "metadata": {},
   "source": [
    "### Definición del modelo CNN: función pérdida y optimizador:"
   ]
  },
  {
   "cell_type": "code",
   "execution_count": 12,
   "metadata": {},
   "outputs": [],
   "source": [
    "opt = optimizers.SGD(lr=lr, momentum=momentum)\n",
    "model.compile(loss='categorical_crossentropy',\n",
    "            optimizer=opt,\n",
    "            metrics=['accuracy'])"
   ]
  },
  {
   "cell_type": "markdown",
   "metadata": {},
   "source": [
    "### Entrenamiento del modelo:"
   ]
  },
  {
   "cell_type": "markdown",
   "metadata": {},
   "source": [
    "fit_generator(generator, steps_per_epoch=None, epochs=1, verbose=1, callbacks=None, validation_data=None, validation_steps=None, validation_freq=1, class_weight=None, max_queue_size=10, workers=1, use_multiprocessing=False, shuffle=True, initial_epoch=0)"
   ]
  },
  {
   "cell_type": "code",
   "execution_count": 13,
   "metadata": {
    "scrolled": false
   },
   "outputs": [
    {
     "name": "stdout",
     "output_type": "stream",
     "text": [
      "WARNING:tensorflow:From C:\\Users\\Angel\\Anaconda3\\envs\\tensorflowGPU\\lib\\site-packages\\tensorflow\\python\\ops\\math_ops.py:3066: to_int32 (from tensorflow.python.ops.math_ops) is deprecated and will be removed in a future version.\n",
      "Instructions for updating:\n",
      "Use tf.cast instead.\n",
      "Epoch 1/80\n",
      "12/12 [==============================] - 15s 1s/step - loss: 1.2374 - acc: 0.3024 - val_loss: 1.1219 - val_acc: 0.3333\n",
      "Epoch 2/80\n",
      "12/12 [==============================] - 6s 475ms/step - loss: 1.1975 - acc: 0.3181 - val_loss: 1.0964 - val_acc: 0.4259\n",
      "Epoch 3/80\n",
      "12/12 [==============================] - 6s 478ms/step - loss: 1.1618 - acc: 0.3089 - val_loss: 1.0936 - val_acc: 0.3519\n",
      "Epoch 4/80\n",
      "12/12 [==============================] - 7s 597ms/step - loss: 1.1279 - acc: 0.3246 - val_loss: 1.0952 - val_acc: 0.3333\n",
      "Epoch 5/80\n",
      "12/12 [==============================] - 8s 654ms/step - loss: 1.1208 - acc: 0.3350 - val_loss: 1.0986 - val_acc: 0.3333\n",
      "Epoch 6/80\n",
      "12/12 [==============================] - 8s 660ms/step - loss: 1.1141 - acc: 0.3298 - val_loss: 1.0955 - val_acc: 0.3333\n",
      "Epoch 7/80\n",
      "12/12 [==============================] - 8s 658ms/step - loss: 1.1353 - acc: 0.3338 - val_loss: 1.0947 - val_acc: 0.3519\n",
      "Epoch 8/80\n",
      "12/12 [==============================] - 8s 655ms/step - loss: 1.1654 - acc: 0.3455 - val_loss: 1.0932 - val_acc: 0.3519\n",
      "Epoch 9/80\n",
      "12/12 [==============================] - 8s 654ms/step - loss: 1.1493 - acc: 0.3233 - val_loss: 1.0904 - val_acc: 0.3704\n",
      "Epoch 10/80\n",
      "12/12 [==============================] - 8s 658ms/step - loss: 1.1249 - acc: 0.3246 - val_loss: 1.0906 - val_acc: 0.3704\n",
      "Epoch 11/80\n",
      "12/12 [==============================] - 8s 651ms/step - loss: 1.1472 - acc: 0.3338 - val_loss: 1.0909 - val_acc: 0.3704\n",
      "Epoch 12/80\n",
      "12/12 [==============================] - 8s 655ms/step - loss: 1.1689 - acc: 0.2448 - val_loss: 1.0941 - val_acc: 0.3519\n",
      "Epoch 13/80\n",
      "12/12 [==============================] - 8s 655ms/step - loss: 1.1294 - acc: 0.3181 - val_loss: 1.0899 - val_acc: 0.3889\n",
      "Epoch 14/80\n",
      "12/12 [==============================] - 8s 665ms/step - loss: 1.1386 - acc: 0.3128 - val_loss: 1.0893 - val_acc: 0.3519\n",
      "Epoch 15/80\n",
      "12/12 [==============================] - 8s 657ms/step - loss: 1.1418 - acc: 0.3089 - val_loss: 1.0884 - val_acc: 0.3519\n",
      "Epoch 16/80\n",
      "12/12 [==============================] - 8s 655ms/step - loss: 1.1634 - acc: 0.3181 - val_loss: 1.0883 - val_acc: 0.3519\n",
      "Epoch 17/80\n",
      "12/12 [==============================] - 8s 654ms/step - loss: 1.1753 - acc: 0.2919 - val_loss: 1.0869 - val_acc: 0.3333\n",
      "Epoch 18/80\n",
      "12/12 [==============================] - 8s 656ms/step - loss: 1.0974 - acc: 0.3861 - val_loss: 1.0859 - val_acc: 0.3889\n",
      "Epoch 19/80\n",
      "12/12 [==============================] - 8s 658ms/step - loss: 1.1278 - acc: 0.3469 - val_loss: 1.0859 - val_acc: 0.3704\n",
      "Epoch 20/80\n",
      "12/12 [==============================] - 8s 655ms/step - loss: 1.1021 - acc: 0.3521 - val_loss: 1.0859 - val_acc: 0.4259\n",
      "Epoch 21/80\n",
      "12/12 [==============================] - 8s 662ms/step - loss: 1.1327 - acc: 0.2906 - val_loss: 1.0863 - val_acc: 0.4074\n",
      "Epoch 22/80\n",
      "12/12 [==============================] - 8s 659ms/step - loss: 1.0823 - acc: 0.3507 - val_loss: 1.0887 - val_acc: 0.3333\n",
      "Epoch 23/80\n",
      "12/12 [==============================] - 8s 668ms/step - loss: 1.1013 - acc: 0.3482 - val_loss: 1.0855 - val_acc: 0.3704\n",
      "Epoch 24/80\n",
      "12/12 [==============================] - 8s 659ms/step - loss: 1.1189 - acc: 0.3377 - val_loss: 1.0862 - val_acc: 0.3519\n",
      "Epoch 25/80\n",
      "12/12 [==============================] - 8s 705ms/step - loss: 1.1194 - acc: 0.3796 - val_loss: 1.0846 - val_acc: 0.3704\n",
      "Epoch 26/80\n",
      "12/12 [==============================] - 8s 692ms/step - loss: 1.0984 - acc: 0.3665 - val_loss: 1.0837 - val_acc: 0.4259\n",
      "Epoch 27/80\n",
      "12/12 [==============================] - 8s 685ms/step - loss: 1.0930 - acc: 0.3966 - val_loss: 1.0838 - val_acc: 0.4259\n",
      "Epoch 28/80\n",
      "12/12 [==============================] - 9s 718ms/step - loss: 1.1305 - acc: 0.2971 - val_loss: 1.0815 - val_acc: 0.4259\n",
      "Epoch 29/80\n",
      "12/12 [==============================] - 9s 720ms/step - loss: 1.1400 - acc: 0.3089 - val_loss: 1.0828 - val_acc: 0.3333\n",
      "Epoch 30/80\n",
      "12/12 [==============================] - 9s 786ms/step - loss: 1.0836 - acc: 0.3639 - val_loss: 1.0817 - val_acc: 0.3519\n",
      "Epoch 31/80\n",
      "12/12 [==============================] - 8s 667ms/step - loss: 1.0792 - acc: 0.4372 - val_loss: 1.0824 - val_acc: 0.3148\n",
      "Epoch 32/80\n",
      "12/12 [==============================] - 8s 685ms/step - loss: 1.1416 - acc: 0.3193 - val_loss: 1.0837 - val_acc: 0.3519\n",
      "Epoch 33/80\n",
      "12/12 [==============================] - 8s 674ms/step - loss: 1.1050 - acc: 0.3560 - val_loss: 1.0838 - val_acc: 0.3519\n",
      "Epoch 34/80\n",
      "12/12 [==============================] - 9s 753ms/step - loss: 1.1552 - acc: 0.2984 - val_loss: 1.0842 - val_acc: 0.4444\n",
      "Epoch 35/80\n",
      "12/12 [==============================] - 9s 760ms/step - loss: 1.1452 - acc: 0.3246 - val_loss: 1.0820 - val_acc: 0.4259\n",
      "Epoch 36/80\n",
      "12/12 [==============================] - 8s 676ms/step - loss: 1.1191 - acc: 0.3534 - val_loss: 1.0810 - val_acc: 0.3519\n",
      "Epoch 37/80\n",
      "12/12 [==============================] - 8s 673ms/step - loss: 1.1239 - acc: 0.3599 - val_loss: 1.0801 - val_acc: 0.3704\n",
      "Epoch 38/80\n",
      "12/12 [==============================] - 9s 724ms/step - loss: 1.1061 - acc: 0.3587 - val_loss: 1.0791 - val_acc: 0.4444\n",
      "Epoch 39/80\n",
      "12/12 [==============================] - 8s 680ms/step - loss: 1.0936 - acc: 0.3953 - val_loss: 1.0780 - val_acc: 0.4630\n",
      "Epoch 40/80\n",
      "12/12 [==============================] - 8s 676ms/step - loss: 1.1170 - acc: 0.3325 - val_loss: 1.0776 - val_acc: 0.4630\n",
      "Epoch 41/80\n",
      "12/12 [==============================] - 8s 667ms/step - loss: 1.1083 - acc: 0.3338 - val_loss: 1.0794 - val_acc: 0.3519\n",
      "Epoch 42/80\n",
      "12/12 [==============================] - 9s 717ms/step - loss: 1.0925 - acc: 0.2932 - val_loss: 1.0804 - val_acc: 0.3148\n",
      "Epoch 43/80\n",
      "12/12 [==============================] - 9s 719ms/step - loss: 1.1159 - acc: 0.3141 - val_loss: 1.0786 - val_acc: 0.3519\n",
      "Epoch 44/80\n",
      "12/12 [==============================] - 8s 660ms/step - loss: 1.1204 - acc: 0.3612 - val_loss: 1.0809 - val_acc: 0.3519\n",
      "Epoch 45/80\n",
      "12/12 [==============================] - 8s 675ms/step - loss: 1.1189 - acc: 0.3495 - val_loss: 1.0795 - val_acc: 0.3704\n",
      "Epoch 46/80\n",
      "12/12 [==============================] - 8s 659ms/step - loss: 1.1353 - acc: 0.3639 - val_loss: 1.0767 - val_acc: 0.4630\n",
      "Epoch 47/80\n",
      "12/12 [==============================] - 8s 659ms/step - loss: 1.1174 - acc: 0.3220 - val_loss: 1.0758 - val_acc: 0.5000\n",
      "Epoch 48/80\n",
      "12/12 [==============================] - 8s 668ms/step - loss: 1.1113 - acc: 0.3612 - val_loss: 1.0757 - val_acc: 0.3889\n",
      "Epoch 49/80\n",
      "12/12 [==============================] - 8s 663ms/step - loss: 1.0686 - acc: 0.4018 - val_loss: 1.0751 - val_acc: 0.3889\n",
      "Epoch 50/80\n",
      "12/12 [==============================] - 8s 671ms/step - loss: 1.1209 - acc: 0.3338 - val_loss: 1.0765 - val_acc: 0.3519\n",
      "Epoch 51/80\n",
      "12/12 [==============================] - 8s 657ms/step - loss: 1.0880 - acc: 0.3482 - val_loss: 1.0755 - val_acc: 0.3704\n",
      "Epoch 52/80\n",
      "12/12 [==============================] - 8s 694ms/step - loss: 1.1002 - acc: 0.3442 - val_loss: 1.0759 - val_acc: 0.3519\n",
      "Epoch 53/80\n",
      "12/12 [==============================] - 8s 673ms/step - loss: 1.0879 - acc: 0.3953 - val_loss: 1.0749 - val_acc: 0.3333\n",
      "Epoch 54/80\n",
      "12/12 [==============================] - 8s 662ms/step - loss: 1.0592 - acc: 0.3901 - val_loss: 1.0741 - val_acc: 0.4074\n",
      "Epoch 55/80\n",
      "12/12 [==============================] - 8s 669ms/step - loss: 1.1050 - acc: 0.3913 - val_loss: 1.0749 - val_acc: 0.4074\n",
      "Epoch 56/80\n",
      "12/12 [==============================] - 8s 666ms/step - loss: 1.0625 - acc: 0.3993 - val_loss: 1.0744 - val_acc: 0.3889\n",
      "Epoch 57/80\n",
      "12/12 [==============================] - 8s 684ms/step - loss: 1.0902 - acc: 0.4110 - val_loss: 1.0732 - val_acc: 0.3333\n",
      "Epoch 58/80\n",
      "12/12 [==============================] - 8s 656ms/step - loss: 1.1060 - acc: 0.3612 - val_loss: 1.0723 - val_acc: 0.4074\n",
      "Epoch 59/80\n",
      "12/12 [==============================] - 8s 666ms/step - loss: 1.1272 - acc: 0.3495 - val_loss: 1.0729 - val_acc: 0.3889\n",
      "Epoch 60/80\n",
      "12/12 [==============================] - 8s 678ms/step - loss: 1.1083 - acc: 0.3652 - val_loss: 1.0732 - val_acc: 0.3333\n",
      "Epoch 61/80\n",
      "12/12 [==============================] - 9s 715ms/step - loss: 1.0851 - acc: 0.4018 - val_loss: 1.0727 - val_acc: 0.4444\n",
      "Epoch 62/80\n",
      "12/12 [==============================] - 8s 686ms/step - loss: 1.1004 - acc: 0.3652 - val_loss: 1.0725 - val_acc: 0.4630\n",
      "Epoch 63/80\n",
      "12/12 [==============================] - 8s 669ms/step - loss: 1.0824 - acc: 0.3809 - val_loss: 1.0723 - val_acc: 0.4074\n",
      "Epoch 64/80\n",
      "12/12 [==============================] - 8s 657ms/step - loss: 1.0711 - acc: 0.4110 - val_loss: 1.0724 - val_acc: 0.4074\n",
      "Epoch 65/80\n",
      "12/12 [==============================] - 8s 662ms/step - loss: 1.0754 - acc: 0.3796 - val_loss: 1.0710 - val_acc: 0.3333\n",
      "Epoch 66/80\n",
      "12/12 [==============================] - 8s 668ms/step - loss: 1.1005 - acc: 0.3665 - val_loss: 1.0716 - val_acc: 0.3519\n",
      "Epoch 67/80\n",
      "12/12 [==============================] - 8s 686ms/step - loss: 1.1002 - acc: 0.3756 - val_loss: 1.0707 - val_acc: 0.4074\n",
      "Epoch 68/80\n",
      "12/12 [==============================] - 8s 688ms/step - loss: 1.0900 - acc: 0.3507 - val_loss: 1.0703 - val_acc: 0.4815\n",
      "Epoch 69/80\n",
      "12/12 [==============================] - 8s 673ms/step - loss: 1.0982 - acc: 0.3691 - val_loss: 1.0698 - val_acc: 0.4259\n",
      "Epoch 70/80\n",
      "12/12 [==============================] - 8s 664ms/step - loss: 1.0731 - acc: 0.3913 - val_loss: 1.0707 - val_acc: 0.4074\n",
      "Epoch 71/80\n",
      "12/12 [==============================] - 8s 651ms/step - loss: 1.0656 - acc: 0.4123 - val_loss: 1.0712 - val_acc: 0.3889\n",
      "Epoch 72/80\n",
      "12/12 [==============================] - 8s 656ms/step - loss: 1.0746 - acc: 0.4424 - val_loss: 1.0713 - val_acc: 0.3333\n",
      "Epoch 73/80\n",
      "12/12 [==============================] - 8s 675ms/step - loss: 1.1001 - acc: 0.3507 - val_loss: 1.0695 - val_acc: 0.3148\n",
      "Epoch 74/80\n",
      "12/12 [==============================] - 8s 673ms/step - loss: 1.0931 - acc: 0.3652 - val_loss: 1.0664 - val_acc: 0.4815\n",
      "Epoch 75/80\n",
      "12/12 [==============================] - 8s 684ms/step - loss: 1.0919 - acc: 0.4084 - val_loss: 1.0662 - val_acc: 0.4630\n",
      "Epoch 76/80\n",
      "12/12 [==============================] - 8s 665ms/step - loss: 1.1078 - acc: 0.3547 - val_loss: 1.0661 - val_acc: 0.4630\n",
      "Epoch 77/80\n",
      "12/12 [==============================] - 8s 670ms/step - loss: 1.0702 - acc: 0.3901 - val_loss: 1.0659 - val_acc: 0.4630\n",
      "Epoch 78/80\n",
      "12/12 [==============================] - 8s 666ms/step - loss: 1.0944 - acc: 0.4267 - val_loss: 1.0657 - val_acc: 0.4630\n",
      "Epoch 79/80\n",
      "12/12 [==============================] - 8s 683ms/step - loss: 1.1022 - acc: 0.3429 - val_loss: 1.0652 - val_acc: 0.5370\n",
      "Epoch 80/80\n",
      "12/12 [==============================] - 8s 697ms/step - loss: 1.0857 - acc: 0.4228 - val_loss: 1.0649 - val_acc: 0.5556\n"
     ]
    }
   ],
   "source": [
    "H = model.fit_generator(\n",
    "    entrenamiento_generador,\n",
    "    steps_per_epoch=len(entrenamiento_generador),\n",
    "    epochs=epocas,\n",
    "    validation_data=validacion_generador,\n",
    "    validation_steps=len(validacion_generador))"
   ]
  },
  {
   "cell_type": "markdown",
   "metadata": {},
   "source": [
    "### Gráficas con resultados del entrenamiento batch_size 16:"
   ]
  },
  {
   "cell_type": "code",
   "execution_count": 15,
   "metadata": {},
   "outputs": [
    {
     "data": {
      "image/png": "[encoded data removed]",
      "text/plain": [
       "<Figure size 432x288 with 1 Axes>"
      ]
     },
     "metadata": {},
     "output_type": "display_data"
    }
   ],
   "source": [
    "import matplotlib.pyplot as plt\n",
    "import numpy as np\n",
    "# plot the training loss and accuracy\n",
    "N = epocas\n",
    "plt.style.use(\"ggplot\")\n",
    "plt.figure()\n",
    "plt.plot(np.arange(0, N), H.history[\"loss\"], label=\"train_loss\")\n",
    "plt.plot(np.arange(0, N), H.history[\"val_loss\"], label=\"val_loss\")\n",
    "plt.plot(np.arange(0, N), H.history[\"acc\"], label=\"train_acc\")\n",
    "plt.plot(np.arange(0, N), H.history[\"val_acc\"], label=\"val_acc\")\n",
    "plt.title(\"Training Loss and Accuracy on Dataset\")\n",
    "plt.xlabel(\"Epoch\")\n",
    "plt.ylabel(\"Loss/Accuracy\")\n",
    "plt.legend(loc=\"lower left\")\n",
    "plt.savefig(\"plot.png\")#Se guarda la gráfica en disco"
   ]
  },
  {
   "cell_type": "markdown",
   "metadata": {},
   "source": [
    "### Cálculo de la función pérdida:"
   ]
  },
  {
   "cell_type": "markdown",
   "metadata": {},
   "source": [
    "El método evaluate_generator(generator, steps=None, callbacks=None, max_queue_size=10, workers=1, use_multiprocessing=False, verbose=0) se encarga de calcular la función de pérdida dados unos datos de entrada y el nivel de aciertos del modelo para una muestra dada."
   ]
  },
  {
   "cell_type": "code",
   "execution_count": 16,
   "metadata": {},
   "outputs": [
    {
     "name": "stdout",
     "output_type": "stream",
     "text": [
      "10/10 [==============================] - 4s 414ms/step\n",
      "Test accuracy: 0.5692307696892664\n",
      "Loss: 1.063606568483206\n"
     ]
    }
   ],
   "source": [
    "score = model.evaluate_generator(validacion_generador, steps=pasos, verbose=1)\n",
    "print('Test accuracy:', score[1])\n",
    "print('Loss:', score[0])"
   ]
  },
  {
   "cell_type": "markdown",
   "metadata": {},
   "source": [
    "### Guardar el modelo entrenado:"
   ]
  },
  {
   "cell_type": "markdown",
   "metadata": {},
   "source": [
    "Para no tener que entrenar la red neuronal creada cada vez que se quiera usar, se crea un archivo donde se guarda el modelo creado, y otro donde se guardan los pesos obtenidos para las neuronas después del entranmiento."
   ]
  },
  {
   "cell_type": "code",
   "execution_count": 17,
   "metadata": {},
   "outputs": [],
   "source": [
    "import os \n",
    "dir = './VGG16_3class/'\n",
    "if not os.path.exists(dir):\n",
    "    os.mkdir(dir)\n",
    "model.save('./VGG16_3class/modelo_VGG16_3class.h5')#Se guarda la estructura de la cnn\n",
    "model.save_weights('./VGG16_3class/pesos_VGG16_3class.h5')#Se guardan los pesos de la cnn"
   ]
  },
  {
   "cell_type": "markdown",
   "metadata": {},
   "source": [
    "### Pruebas de clasificación:"
   ]
  },
  {
   "cell_type": "code",
   "execution_count": null,
   "metadata": {},
   "outputs": [],
   "source": [
    "import numpy as np\n",
    "from keras.preprocessing.image import load_img, img_to_array\n",
    "from keras.models import load_model"
   ]
  },
  {
   "cell_type": "markdown",
   "metadata": {},
   "source": [
    "La función load_image() transforma de forma interna las imágenes, tomando como argumento las dimensiones que admiten las arquitecturas implementadas y un método de interpolación. Se recomienda usar métodos de interpolación como bicubic o lanczos, frente a nearest que viene por defecto."
   ]
  },
  {
   "cell_type": "code",
   "execution_count": null,
   "metadata": {},
   "outputs": [],
   "source": [
    "###Función predicción:\n",
    "def predict(file):\n",
    "  x = load_img(file, target_size=(altura, longitud))\n",
    "  x = img_to_array(x)\n",
    "  x = np.expand_dims(x, axis=0) #Zero mean pre-processing, normalize data.\n",
    "  array = model.predict(x)\n",
    "  print(array)  \n",
    "  result = array[0]\n",
    "  print(result)\n",
    "  answer = np.argmax(result)\n",
    "  print(answer)  \n",
    "  if answer == 0:\n",
    "    print(\"pred: M1\")\n",
    "  elif answer == 1:\n",
    "    print(\"pred: M10\")\n",
    "  elif answer == 2:\n",
    "    print(\"pred: M6\")\n",
    "  return answer"
   ]
  },
  {
   "cell_type": "code",
   "execution_count": null,
   "metadata": {},
   "outputs": [],
   "source": [
    "x = load_img('graminea1.jpg', target_size=(altura, longitud))\n",
    "x = img_to_array(x)\n",
    "x = np.expand_dims(x, axis=0)\n",
    "model.predict(x)"
   ]
  },
  {
   "cell_type": "code",
   "execution_count": null,
   "metadata": {},
   "outputs": [],
   "source": [
    "print(entrenamiento_generador)"
   ]
  }
 ],
 "metadata": {
  "kernelspec": {
   "display_name": "tensorflowGPU",
   "language": "python",
   "name": "tensorflowgpu"
  },
  "language_info": {
   "codemirror_mode": {
    "name": "ipython",
    "version": 3
   },
   "file_extension": ".py",
   "mimetype": "text/x-python",
   "name": "python",
   "nbconvert_exporter": "python",
   "pygments_lexer": "ipython3",
   "version": "3.7.3"
  }
 },
 "nbformat": 4,
 "nbformat_minor": 2
}
