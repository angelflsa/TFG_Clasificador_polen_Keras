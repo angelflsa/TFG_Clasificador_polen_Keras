{
 "cells": [
  {
   "cell_type": "markdown",
   "metadata": {},
   "source": [
    "# Clasificador polen (Telmu) a partir de una red pre-entrenada:"
   ]
  },
  {
   "cell_type": "markdown",
   "metadata": {},
   "source": [
    "### GPU disponible:"
   ]
  },
  {
   "cell_type": "code",
   "execution_count": 1,
   "metadata": {},
   "outputs": [
    {
     "name": "stdout",
     "output_type": "stream",
     "text": [
      "TensorFlow Version: 1.13.1\n",
      "Default GPU Device: /device:GPU:0\n"
     ]
    }
   ],
   "source": [
    "from distutils.version import LooseVersion\n",
    "import warnings\n",
    "import tensorflow as tf\n",
    "\n",
    "# Check TensorFlow Version\n",
    "assert LooseVersion(tf.__version__) >= LooseVersion('1.0'), 'Please use TensorFlow version 1.0 or newer.  You are using {}'.format(tf.__version__)\n",
    "print('TensorFlow Version: {}'.format(tf.__version__))\n",
    "\n",
    "# Check for a GPU\n",
    "if not tf.test.gpu_device_name():\n",
    "    warnings.warn('No GPU found. Please ensure you have installed TensorFlow correctly')\n",
    "else:\n",
    "    print('Default GPU Device: {}'.format(tf.test.gpu_device_name()))"
   ]
  },
  {
   "cell_type": "markdown",
   "metadata": {},
   "source": [
    "### Modelo VGG16:"
   ]
  },
  {
   "cell_type": "code",
   "execution_count": 2,
   "metadata": {},
   "outputs": [
    {
     "name": "stderr",
     "output_type": "stream",
     "text": [
      "Using TensorFlow backend.\n"
     ]
    }
   ],
   "source": [
    "import sys\n",
    "import os\n",
    "from PIL import Image\n",
    "from keras.preprocessing.image import ImageDataGenerator\n",
    "from keras import optimizers\n",
    "from keras.models import Sequential\n",
    "from keras.layers import Dropout, Flatten, Dense, Activation\n",
    "from keras.layers import  Convolution2D, MaxPooling2D, Dense, GlobalAveragePooling2D, AveragePooling2D\n",
    "from keras.models import Model\n",
    "from keras import backend as K\n",
    "from keras import applications\n",
    "K.clear_session()"
   ]
  },
  {
   "cell_type": "markdown",
   "metadata": {},
   "source": [
    "Se carga el modelo InceptionResNetV2: "
   ]
  },
  {
   "cell_type": "markdown",
   "metadata": {},
   "source": [
    "keras.applications.inception_resnet_v2.InceptionResNetV2(include_top=True, weights='imagenet', input_tensor=None, input_shape=None, pooling=None, classes=1000)"
   ]
  },
  {
   "cell_type": "markdown",
   "metadata": {},
   "source": [
    "Este modelo contiene los pesos obtenidos con el pre-entrenamiento en ImageNet. Por defecto, establece una imagen de entrada de 299x299."
   ]
  },
  {
   "cell_type": "code",
   "execution_count": 3,
   "metadata": {},
   "outputs": [
    {
     "name": "stdout",
     "output_type": "stream",
     "text": [
      "WARNING:tensorflow:From C:\\Users\\Angel\\Anaconda3\\envs\\tensorflowGPU\\lib\\site-packages\\tensorflow\\python\\framework\\op_def_library.py:263: colocate_with (from tensorflow.python.framework.ops) is deprecated and will be removed in a future version.\n",
      "Instructions for updating:\n",
      "Colocations handled automatically by placer.\n",
      "_________________________________________________________________\n",
      "Layer (type)                 Output Shape              Param #   \n",
      "=================================================================\n",
      "input_1 (InputLayer)         (None, 256, 256, 3)       0         \n",
      "_________________________________________________________________\n",
      "block1_conv1 (Conv2D)        (None, 256, 256, 64)      1792      \n",
      "_________________________________________________________________\n",
      "block1_conv2 (Conv2D)        (None, 256, 256, 64)      36928     \n",
      "_________________________________________________________________\n",
      "block1_pool (MaxPooling2D)   (None, 128, 128, 64)      0         \n",
      "_________________________________________________________________\n",
      "block2_conv1 (Conv2D)        (None, 128, 128, 128)     73856     \n",
      "_________________________________________________________________\n",
      "block2_conv2 (Conv2D)        (None, 128, 128, 128)     147584    \n",
      "_________________________________________________________________\n",
      "block2_pool (MaxPooling2D)   (None, 64, 64, 128)       0         \n",
      "_________________________________________________________________\n",
      "block3_conv1 (Conv2D)        (None, 64, 64, 256)       295168    \n",
      "_________________________________________________________________\n",
      "block3_conv2 (Conv2D)        (None, 64, 64, 256)       590080    \n",
      "_________________________________________________________________\n",
      "block3_conv3 (Conv2D)        (None, 64, 64, 256)       590080    \n",
      "_________________________________________________________________\n",
      "block3_pool (MaxPooling2D)   (None, 32, 32, 256)       0         \n",
      "_________________________________________________________________\n",
      "block4_conv1 (Conv2D)        (None, 32, 32, 512)       1180160   \n",
      "_________________________________________________________________\n",
      "block4_conv2 (Conv2D)        (None, 32, 32, 512)       2359808   \n",
      "_________________________________________________________________\n",
      "block4_conv3 (Conv2D)        (None, 32, 32, 512)       2359808   \n",
      "_________________________________________________________________\n",
      "block4_pool (MaxPooling2D)   (None, 16, 16, 512)       0         \n",
      "_________________________________________________________________\n",
      "block5_conv1 (Conv2D)        (None, 16, 16, 512)       2359808   \n",
      "_________________________________________________________________\n",
      "block5_conv2 (Conv2D)        (None, 16, 16, 512)       2359808   \n",
      "_________________________________________________________________\n",
      "block5_conv3 (Conv2D)        (None, 16, 16, 512)       2359808   \n",
      "_________________________________________________________________\n",
      "block5_pool (MaxPooling2D)   (None, 8, 8, 512)         0         \n",
      "=================================================================\n",
      "Total params: 14,714,688\n",
      "Trainable params: 14,714,688\n",
      "Non-trainable params: 0\n",
      "_________________________________________________________________\n"
     ]
    }
   ],
   "source": [
    "baseModel = applications.vgg16.VGG16(weights=\"imagenet\", include_top=False, input_shape=(256, 256, 3))#Cargamos la red\n",
    "baseModel.summary()#Muestra el contenido de la red."
   ]
  },
  {
   "cell_type": "markdown",
   "metadata": {},
   "source": [
    "Se ha pasado como argumento include_top=False. La red VGG16 que aporta keras contiene por defecto una última capa de predicción de mil neuronas (para clasificar mil clases diferentes). La red que se busca solo clasificará dos clases diferentes. Con include_top=False se elimina esta última capa. En la siguiente línea de código se carga la red al completo:"
   ]
  },
  {
   "cell_type": "markdown",
   "metadata": {},
   "source": [
    "### Modificación de la última capa:"
   ]
  },
  {
   "cell_type": "markdown",
   "metadata": {},
   "source": [
    "Se diseña la capa de salida para realizar la clasificación. Constará de:"
   ]
  },
  {
   "cell_type": "markdown",
   "metadata": {},
   "source": [
    "Capa GlobalAveragePooling2D."
   ]
  },
  {
   "cell_type": "markdown",
   "metadata": {},
   "source": [
    "Capa tipo Dense de 1000 neuronas y activación rectificador (relu)"
   ]
  },
  {
   "cell_type": "code",
   "execution_count": 4,
   "metadata": {},
   "outputs": [
    {
     "name": "stdout",
     "output_type": "stream",
     "text": [
      "WARNING:tensorflow:From C:\\Users\\Angel\\Anaconda3\\envs\\tensorflowGPU\\lib\\site-packages\\keras\\backend\\tensorflow_backend.py:3445: calling dropout (from tensorflow.python.ops.nn_ops) with keep_prob is deprecated and will be removed in a future version.\n",
      "Instructions for updating:\n",
      "Please use `rate` instead of `keep_prob`. Rate should be set to `rate = 1 - keep_prob`.\n"
     ]
    }
   ],
   "source": [
    "headModel = baseModel.output\n",
    "headModel = AveragePooling2D(pool_size=(4, 4))(headModel)\n",
    "headModel = Flatten(name=\"flatten\")(headModel)\n",
    "headModel = Dense(512, activation=\"relu\")(headModel)\n",
    "headModel = Dropout(0.5)(headModel)\n",
    "headModel = Dense(1, activation=\"softmax\")(headModel)\n",
    "\n",
    "# add a global spatial average pooling layer\n",
    "#x = InceptionResNetV2.output\n",
    "#x = GlobalAveragePooling2D()(x)\n",
    "# let's add a fully-connected layer\n",
    "#x = Dense(800, activation='relu')(x)\n",
    "#To reduce overfitting...\n",
    "#x = Dropout(0.5)(x)\n",
    "# and a logistic layer -- let's say we have 3 classes\n",
    "#predictions = Dense(2, activation='softmax')(x)\n",
    "#model = Model(inputs=InceptionResNetV2.input, outputs=predictions)\n",
    "\n",
    "model = Model(inputs=baseModel.input, outputs=headModel)"
   ]
  },
  {
   "cell_type": "code",
   "execution_count": 5,
   "metadata": {},
   "outputs": [
    {
     "name": "stdout",
     "output_type": "stream",
     "text": [
      "_________________________________________________________________\n",
      "Layer (type)                 Output Shape              Param #   \n",
      "=================================================================\n",
      "input_1 (InputLayer)         (None, 256, 256, 3)       0         \n",
      "_________________________________________________________________\n",
      "block1_conv1 (Conv2D)        (None, 256, 256, 64)      1792      \n",
      "_________________________________________________________________\n",
      "block1_conv2 (Conv2D)        (None, 256, 256, 64)      36928     \n",
      "_________________________________________________________________\n",
      "block1_pool (MaxPooling2D)   (None, 128, 128, 64)      0         \n",
      "_________________________________________________________________\n",
      "block2_conv1 (Conv2D)        (None, 128, 128, 128)     73856     \n",
      "_________________________________________________________________\n",
      "block2_conv2 (Conv2D)        (None, 128, 128, 128)     147584    \n",
      "_________________________________________________________________\n",
      "block2_pool (MaxPooling2D)   (None, 64, 64, 128)       0         \n",
      "_________________________________________________________________\n",
      "block3_conv1 (Conv2D)        (None, 64, 64, 256)       295168    \n",
      "_________________________________________________________________\n",
      "block3_conv2 (Conv2D)        (None, 64, 64, 256)       590080    \n",
      "_________________________________________________________________\n",
      "block3_conv3 (Conv2D)        (None, 64, 64, 256)       590080    \n",
      "_________________________________________________________________\n",
      "block3_pool (MaxPooling2D)   (None, 32, 32, 256)       0         \n",
      "_________________________________________________________________\n",
      "block4_conv1 (Conv2D)        (None, 32, 32, 512)       1180160   \n",
      "_________________________________________________________________\n",
      "block4_conv2 (Conv2D)        (None, 32, 32, 512)       2359808   \n",
      "_________________________________________________________________\n",
      "block4_conv3 (Conv2D)        (None, 32, 32, 512)       2359808   \n",
      "_________________________________________________________________\n",
      "block4_pool (MaxPooling2D)   (None, 16, 16, 512)       0         \n",
      "_________________________________________________________________\n",
      "block5_conv1 (Conv2D)        (None, 16, 16, 512)       2359808   \n",
      "_________________________________________________________________\n",
      "block5_conv2 (Conv2D)        (None, 16, 16, 512)       2359808   \n",
      "_________________________________________________________________\n",
      "block5_conv3 (Conv2D)        (None, 16, 16, 512)       2359808   \n",
      "_________________________________________________________________\n",
      "block5_pool (MaxPooling2D)   (None, 8, 8, 512)         0         \n",
      "_________________________________________________________________\n",
      "average_pooling2d_1 (Average (None, 2, 2, 512)         0         \n",
      "_________________________________________________________________\n",
      "flatten (Flatten)            (None, 2048)              0         \n",
      "_________________________________________________________________\n",
      "dense_1 (Dense)              (None, 512)               1049088   \n",
      "_________________________________________________________________\n",
      "dropout_1 (Dropout)          (None, 512)               0         \n",
      "_________________________________________________________________\n",
      "dense_2 (Dense)              (None, 1)                 513       \n",
      "=================================================================\n",
      "Total params: 15,764,289\n",
      "Trainable params: 15,764,289\n",
      "Non-trainable params: 0\n",
      "_________________________________________________________________\n"
     ]
    }
   ],
   "source": [
    "model.summary()"
   ]
  },
  {
   "cell_type": "code",
   "execution_count": null,
   "metadata": {},
   "outputs": [],
   "source": [
    "model.layers"
   ]
  },
  {
   "cell_type": "markdown",
   "metadata": {},
   "source": [
    "### Congelación de capas:"
   ]
  },
  {
   "cell_type": "markdown",
   "metadata": {},
   "source": [
    "Se ha cargado la red pre-entrenada InceptionResNetV2, con los pesos de Imagenet. De esta forma las capas convolucionales y pooling que la forman actuarán como diferenciadoras de características, que serán usadas por la capa final que se ha incluido para realizar la clasificación."
   ]
  },
  {
   "cell_type": "markdown",
   "metadata": {},
   "source": [
    "Por tanto, se va a usar una red que ya ha 'aprendido' a clasificar en otros problemas, y se va a adaptar para el problema que aquí se trata (TRANSFER LEARNING)."
   ]
  },
  {
   "cell_type": "markdown",
   "metadata": {},
   "source": [
    "Es por esto que no es necesario entrenar todas las capas de la red, y solo se entrenarán las 3 capas que se han añadido, congelando las demás."
   ]
  },
  {
   "cell_type": "code",
   "execution_count": 6,
   "metadata": {},
   "outputs": [
    {
     "name": "stdout",
     "output_type": "stream",
     "text": [
      "0 input_1\n",
      "1 block1_conv1\n",
      "2 block1_conv2\n",
      "3 block1_pool\n",
      "4 block2_conv1\n",
      "5 block2_conv2\n",
      "6 block2_pool\n",
      "7 block3_conv1\n",
      "8 block3_conv2\n",
      "9 block3_conv3\n",
      "10 block3_pool\n",
      "11 block4_conv1\n",
      "12 block4_conv2\n",
      "13 block4_conv3\n",
      "14 block4_pool\n",
      "15 block5_conv1\n",
      "16 block5_conv2\n",
      "17 block5_conv3\n",
      "18 block5_pool\n",
      "19 average_pooling2d_1\n",
      "20 flatten\n",
      "21 dense_1\n",
      "22 dropout_1\n",
      "23 dense_2\n"
     ]
    }
   ],
   "source": [
    "# let's visualize layer names and layer indices to see how many layers\n",
    "# we should freeze:\n",
    "for i, layer in enumerate(model.layers):\n",
    "   print(i, layer.name)"
   ]
  },
  {
   "cell_type": "code",
   "execution_count": 7,
   "metadata": {},
   "outputs": [],
   "source": [
    "#for layer in model.layers[:780]:\n",
    "#   layer.trainable = False\n",
    "#for layer in model.layers[780:]:\n",
    "#   layer.trainable = True\n",
    "for layer in baseModel.layers:\n",
    "    layer.trainable = False"
   ]
  },
  {
   "cell_type": "code",
   "execution_count": 8,
   "metadata": {},
   "outputs": [
    {
     "name": "stdout",
     "output_type": "stream",
     "text": [
      "_________________________________________________________________\n",
      "Layer (type)                 Output Shape              Param #   \n",
      "=================================================================\n",
      "input_1 (InputLayer)         (None, 256, 256, 3)       0         \n",
      "_________________________________________________________________\n",
      "block1_conv1 (Conv2D)        (None, 256, 256, 64)      1792      \n",
      "_________________________________________________________________\n",
      "block1_conv2 (Conv2D)        (None, 256, 256, 64)      36928     \n",
      "_________________________________________________________________\n",
      "block1_pool (MaxPooling2D)   (None, 128, 128, 64)      0         \n",
      "_________________________________________________________________\n",
      "block2_conv1 (Conv2D)        (None, 128, 128, 128)     73856     \n",
      "_________________________________________________________________\n",
      "block2_conv2 (Conv2D)        (None, 128, 128, 128)     147584    \n",
      "_________________________________________________________________\n",
      "block2_pool (MaxPooling2D)   (None, 64, 64, 128)       0         \n",
      "_________________________________________________________________\n",
      "block3_conv1 (Conv2D)        (None, 64, 64, 256)       295168    \n",
      "_________________________________________________________________\n",
      "block3_conv2 (Conv2D)        (None, 64, 64, 256)       590080    \n",
      "_________________________________________________________________\n",
      "block3_conv3 (Conv2D)        (None, 64, 64, 256)       590080    \n",
      "_________________________________________________________________\n",
      "block3_pool (MaxPooling2D)   (None, 32, 32, 256)       0         \n",
      "_________________________________________________________________\n",
      "block4_conv1 (Conv2D)        (None, 32, 32, 512)       1180160   \n",
      "_________________________________________________________________\n",
      "block4_conv2 (Conv2D)        (None, 32, 32, 512)       2359808   \n",
      "_________________________________________________________________\n",
      "block4_conv3 (Conv2D)        (None, 32, 32, 512)       2359808   \n",
      "_________________________________________________________________\n",
      "block4_pool (MaxPooling2D)   (None, 16, 16, 512)       0         \n",
      "_________________________________________________________________\n",
      "block5_conv1 (Conv2D)        (None, 16, 16, 512)       2359808   \n",
      "_________________________________________________________________\n",
      "block5_conv2 (Conv2D)        (None, 16, 16, 512)       2359808   \n",
      "_________________________________________________________________\n",
      "block5_conv3 (Conv2D)        (None, 16, 16, 512)       2359808   \n",
      "_________________________________________________________________\n",
      "block5_pool (MaxPooling2D)   (None, 8, 8, 512)         0         \n",
      "_________________________________________________________________\n",
      "average_pooling2d_1 (Average (None, 2, 2, 512)         0         \n",
      "_________________________________________________________________\n",
      "flatten (Flatten)            (None, 2048)              0         \n",
      "_________________________________________________________________\n",
      "dense_1 (Dense)              (None, 512)               1049088   \n",
      "_________________________________________________________________\n",
      "dropout_1 (Dropout)          (None, 512)               0         \n",
      "_________________________________________________________________\n",
      "dense_2 (Dense)              (None, 1)                 513       \n",
      "=================================================================\n",
      "Total params: 15,764,289\n",
      "Trainable params: 1,049,601\n",
      "Non-trainable params: 14,714,688\n",
      "_________________________________________________________________\n"
     ]
    }
   ],
   "source": [
    "model.summary()"
   ]
  },
  {
   "cell_type": "markdown",
   "metadata": {},
   "source": [
    "### Tratamiento de las imágenes:"
   ]
  },
  {
   "cell_type": "markdown",
   "metadata": {},
   "source": [
    "Se necesita adaptar el conjunto de imágenes para poder ser tratado por el modelo. Para ello se van a usar las funciones flow_from_directory() y ImageDataGenerator()."
   ]
  },
  {
   "cell_type": "code",
   "execution_count": 16,
   "metadata": {},
   "outputs": [],
   "source": [
    "#Se almacenan en variables los directorios en los que se encuentran las imágenes\n",
    "data_entrenamiento = './data_polen/entrenamiento'\n",
    "data_validacion = './data_polen/validacion'\n",
    "\n",
    "#Parámetros importantes:\n",
    "epocas=50\n",
    "longitud, altura = 256, 256\n",
    "batch_size = 32 #Imágenes a procesar en cada paso\n",
    "pasos = 10\n",
    "clases = 2\n",
    "lr = 1e-4 #Learning rate\n",
    "momentum = 0.9"
   ]
  },
  {
   "cell_type": "markdown",
   "metadata": {},
   "source": [
    "flow_from_directory(directory, target_size=(256, 256), color_mode='rgb', classes=None, class_mode='categorical', batch_size=32, shuffle=True, seed=None, save_to_dir=None, save_prefix='', save_format='png', follow_links=False, subset=None, interpolation='nearest')"
   ]
  },
  {
   "cell_type": "markdown",
   "metadata": {},
   "source": [
    "Con la función flow_from_directory() se pre-procesan las imágenes que se encuentran en los directorios previamente declarados. Además se le puede pasar como parámetros el tamaño al que se redimensionan las imágenes, o el algoritmo de interpolación."
   ]
  },
  {
   "cell_type": "markdown",
   "metadata": {},
   "source": [
    "keras.preprocessing.image.ImageDataGenerator(featurewise_center=False, samplewise_center=False, featurewise_std_normalization=False, samplewise_std_normalization=False, zca_whitening=False, zca_epsilon=1e-06, rotation_range=0, width_shift_range=0.0, height_shift_range=0.0, brightness_range=None, shear_range=0.0, zoom_range=0.0, channel_shift_range=0.0, fill_mode='nearest', cval=0.0, horizontal_flip=False, vertical_flip=False, rescale=None, preprocessing_function=None, data_format=None, validation_split=0.0, dtype=None)"
   ]
  },
  {
   "cell_type": "markdown",
   "metadata": {},
   "source": [
    "Gracias a la función ImageDataGenerator() se aplica al set de entrenamiento mecanismos de DATA ARGUMENTATION como inclinar, hacer zoom o invertir las imágenes."
   ]
  },
  {
   "cell_type": "code",
   "execution_count": 17,
   "metadata": {},
   "outputs": [
    {
     "name": "stdout",
     "output_type": "stream",
     "text": [
      "Found 116 images belonging to 2 classes.\n",
      "Found 36 images belonging to 2 classes.\n",
      "{'Muestra1': 0, 'Muestra10': 1}\n"
     ]
    }
   ],
   "source": [
    "###Procesamiento del conjunto de entrenamieto:\n",
    "entrenamiento_datagen = ImageDataGenerator(\n",
    "    rescale=1. / 255, \n",
    "    rotation_range=40,\n",
    "    width_shift_range=0.2,\n",
    "    height_shift_range=0.2,\n",
    "    shear_range=0.2, #Inclina las imágenes\n",
    "    zoom_range=0.2, #Zoom a algunas imágenes\n",
    "    horizontal_flip=True) #Invierte imágenes para distinguir direcionalidad\n",
    "\n",
    "###Procesamiento del conjunto de validación:\n",
    "#No es necesario inclinar, hacer zoom ni invertir las imágenes.\n",
    "test_datagen = ImageDataGenerator(rescale=1. / 255)\n",
    "\n",
    "###Generación del conjunto de entrenamieto:\n",
    "entrenamiento_generador = entrenamiento_datagen.flow_from_directory(\n",
    "    data_entrenamiento,\n",
    "    target_size=(altura, longitud),\n",
    "    batch_size=batch_size,\n",
    "    class_mode='binary') #Se busca una clasificación categórica\n",
    "\n",
    "###Generación del conjunto de validación:\n",
    "validacion_generador = test_datagen.flow_from_directory(\n",
    "    data_validacion,\n",
    "    target_size=(altura, longitud),\n",
    "    batch_size=18,\n",
    "    class_mode='binary')\n",
    "\n",
    "print(entrenamiento_generador.class_indices)"
   ]
  },
  {
   "cell_type": "markdown",
   "metadata": {},
   "source": [
    "### Definición del modelo CNN: función pérdida y optimizador:"
   ]
  },
  {
   "cell_type": "code",
   "execution_count": 11,
   "metadata": {},
   "outputs": [],
   "source": [
    "opt = optimizers.SGD(lr=lr, momentum=momentum)\n",
    "model.compile(loss='binary_crossentropy',\n",
    "            optimizer=opt,\n",
    "            metrics=['accuracy'])"
   ]
  },
  {
   "cell_type": "markdown",
   "metadata": {},
   "source": [
    "### Entrenamiento del modelo:"
   ]
  },
  {
   "cell_type": "markdown",
   "metadata": {},
   "source": [
    "fit_generator(generator, steps_per_epoch=None, epochs=1, verbose=1, callbacks=None, validation_data=None, validation_steps=None, validation_freq=1, class_weight=None, max_queue_size=10, workers=1, use_multiprocessing=False, shuffle=True, initial_epoch=0)"
   ]
  },
  {
   "cell_type": "code",
   "execution_count": 12,
   "metadata": {},
   "outputs": [
    {
     "name": "stdout",
     "output_type": "stream",
     "text": [
      "WARNING:tensorflow:From C:\\Users\\Angel\\Anaconda3\\envs\\tensorflowGPU\\lib\\site-packages\\tensorflow\\python\\ops\\math_ops.py:3066: to_int32 (from tensorflow.python.ops.math_ops) is deprecated and will be removed in a future version.\n",
      "Instructions for updating:\n",
      "Use tf.cast instead.\n",
      "Epoch 1/50\n",
      "8/8 [==============================] - 12s 2s/step - loss: 7.4673 - acc: 0.5316 - val_loss: 7.9712 - val_acc: 0.5000\n",
      "Epoch 2/50\n",
      "8/8 [==============================] - 4s 471ms/step - loss: 7.4673 - acc: 0.5316 - val_loss: 7.9712 - val_acc: 0.5000\n",
      "Epoch 3/50\n",
      "8/8 [==============================] - 4s 469ms/step - loss: 7.1351 - acc: 0.5524 - val_loss: 7.9712 - val_acc: 0.5000\n",
      "Epoch 4/50\n",
      "8/8 [==============================] - 4s 468ms/step - loss: 7.4673 - acc: 0.5316 - val_loss: 7.9712 - val_acc: 0.5000\n",
      "Epoch 5/50\n",
      "8/8 [==============================] - 4s 470ms/step - loss: 7.4673 - acc: 0.5316 - val_loss: 7.9712 - val_acc: 0.5000\n",
      "Epoch 6/50\n",
      "8/8 [==============================] - 5s 622ms/step - loss: 7.7994 - acc: 0.5108 - val_loss: 7.9712 - val_acc: 0.5000\n",
      "Epoch 7/50\n",
      "8/8 [==============================] - 5s 627ms/step - loss: 7.7994 - acc: 0.5108 - val_loss: 7.9712 - val_acc: 0.5000\n",
      "Epoch 8/50\n",
      "8/8 [==============================] - 5s 628ms/step - loss: 7.1351 - acc: 0.5524 - val_loss: 7.9712 - val_acc: 0.5000\n",
      "Epoch 9/50\n",
      "8/8 [==============================] - 5s 635ms/step - loss: 7.1351 - acc: 0.5524 - val_loss: 7.9712 - val_acc: 0.5000\n",
      "Epoch 10/50\n",
      "8/8 [==============================] - 5s 628ms/step - loss: 7.1351 - acc: 0.5524 - val_loss: 7.9712 - val_acc: 0.5000\n",
      "Epoch 11/50\n",
      "8/8 [==============================] - 5s 631ms/step - loss: 7.4673 - acc: 0.5316 - val_loss: 7.9712 - val_acc: 0.5000\n",
      "Epoch 12/50\n",
      "8/8 [==============================] - 5s 653ms/step - loss: 7.1351 - acc: 0.5524 - val_loss: 7.9712 - val_acc: 0.5000\n",
      "Epoch 13/50\n",
      "8/8 [==============================] - 5s 633ms/step - loss: 7.7994 - acc: 0.5108 - val_loss: 7.9712 - val_acc: 0.5000\n",
      "Epoch 14/50\n",
      "8/8 [==============================] - 5s 639ms/step - loss: 7.1351 - acc: 0.5524 - val_loss: 7.9712 - val_acc: 0.5000\n",
      "Epoch 15/50\n",
      "8/8 [==============================] - 5s 630ms/step - loss: 7.1351 - acc: 0.5524 - val_loss: 7.9712 - val_acc: 0.5000\n",
      "Epoch 16/50\n",
      "8/8 [==============================] - 5s 631ms/step - loss: 6.8030 - acc: 0.5733 - val_loss: 7.9712 - val_acc: 0.5000\n",
      "Epoch 17/50\n",
      "8/8 [==============================] - 5s 673ms/step - loss: 7.7994 - acc: 0.5108 - val_loss: 7.9712 - val_acc: 0.5000\n",
      "Epoch 18/50\n",
      "8/8 [==============================] - 5s 638ms/step - loss: 7.1351 - acc: 0.5524 - val_loss: 7.9712 - val_acc: 0.5000\n",
      "Epoch 19/50\n",
      "8/8 [==============================] - 5s 630ms/step - loss: 7.1351 - acc: 0.5524 - val_loss: 7.9712 - val_acc: 0.5000\n",
      "Epoch 20/50\n",
      "8/8 [==============================] - 5s 640ms/step - loss: 7.4673 - acc: 0.5316 - val_loss: 7.9712 - val_acc: 0.5000\n",
      "Epoch 21/50\n",
      "8/8 [==============================] - 5s 635ms/step - loss: 7.1351 - acc: 0.5524 - val_loss: 7.9712 - val_acc: 0.5000\n",
      "Epoch 22/50\n",
      "8/8 [==============================] - 5s 641ms/step - loss: 7.4673 - acc: 0.5316 - val_loss: 7.9712 - val_acc: 0.5000\n",
      "Epoch 23/50\n",
      "8/8 [==============================] - 5s 645ms/step - loss: 7.4673 - acc: 0.5316 - val_loss: 7.9712 - val_acc: 0.5000\n",
      "Epoch 24/50\n",
      "8/8 [==============================] - 5s 633ms/step - loss: 7.7994 - acc: 0.5108 - val_loss: 7.9712 - val_acc: 0.5000\n",
      "Epoch 25/50\n",
      "8/8 [==============================] - 5s 649ms/step - loss: 7.1351 - acc: 0.5524 - val_loss: 7.9712 - val_acc: 0.5000\n",
      "Epoch 26/50\n",
      "8/8 [==============================] - 5s 645ms/step - loss: 8.1315 - acc: 0.4899 - val_loss: 7.9712 - val_acc: 0.5000\n",
      "Epoch 27/50\n",
      "8/8 [==============================] - 5s 644ms/step - loss: 7.7994 - acc: 0.5108 - val_loss: 7.9712 - val_acc: 0.5000\n",
      "Epoch 28/50\n",
      "8/8 [==============================] - 5s 646ms/step - loss: 7.4673 - acc: 0.5316 - val_loss: 7.9712 - val_acc: 0.5000\n",
      "Epoch 29/50\n",
      "8/8 [==============================] - 5s 632ms/step - loss: 7.1351 - acc: 0.5524 - val_loss: 7.9712 - val_acc: 0.5000\n",
      "Epoch 30/50\n",
      "8/8 [==============================] - 5s 630ms/step - loss: 7.1351 - acc: 0.5524 - val_loss: 7.9712 - val_acc: 0.5000\n",
      "Epoch 31/50\n",
      "8/8 [==============================] - 5s 630ms/step - loss: 7.1351 - acc: 0.5524 - val_loss: 7.9712 - val_acc: 0.5000\n",
      "Epoch 32/50\n",
      "8/8 [==============================] - 5s 640ms/step - loss: 8.1315 - acc: 0.4899 - val_loss: 7.9712 - val_acc: 0.5000\n",
      "Epoch 33/50\n",
      "8/8 [==============================] - 5s 635ms/step - loss: 7.1351 - acc: 0.5524 - val_loss: 7.9712 - val_acc: 0.5000\n",
      "Epoch 34/50\n",
      "8/8 [==============================] - 5s 634ms/step - loss: 8.1315 - acc: 0.4899 - val_loss: 7.9712 - val_acc: 0.5000\n",
      "Epoch 35/50\n",
      "8/8 [==============================] - 5s 629ms/step - loss: 7.7994 - acc: 0.5108 - val_loss: 7.9712 - val_acc: 0.5000\n",
      "Epoch 36/50\n",
      "8/8 [==============================] - 5s 632ms/step - loss: 7.4673 - acc: 0.5316 - val_loss: 7.9712 - val_acc: 0.5000\n",
      "Epoch 37/50\n",
      "8/8 [==============================] - 5s 667ms/step - loss: 6.8030 - acc: 0.5733 - val_loss: 7.9712 - val_acc: 0.5000\n",
      "Epoch 38/50\n",
      "8/8 [==============================] - 5s 640ms/step - loss: 6.8030 - acc: 0.5733 - val_loss: 7.9712 - val_acc: 0.5000\n",
      "Epoch 39/50\n",
      "8/8 [==============================] - 5s 639ms/step - loss: 7.1351 - acc: 0.5524 - val_loss: 7.9712 - val_acc: 0.5000\n",
      "Epoch 40/50\n",
      "8/8 [==============================] - 5s 639ms/step - loss: 7.4673 - acc: 0.5316 - val_loss: 7.9712 - val_acc: 0.5000\n",
      "Epoch 41/50\n",
      "8/8 [==============================] - 5s 640ms/step - loss: 7.4673 - acc: 0.5316 - val_loss: 7.9712 - val_acc: 0.5000\n",
      "Epoch 42/50\n",
      "8/8 [==============================] - 5s 643ms/step - loss: 8.1315 - acc: 0.4899 - val_loss: 7.9712 - val_acc: 0.5000\n",
      "Epoch 43/50\n",
      "8/8 [==============================] - 5s 671ms/step - loss: 7.1351 - acc: 0.5524 - val_loss: 7.9712 - val_acc: 0.5000\n",
      "Epoch 44/50\n",
      "8/8 [==============================] - 5s 637ms/step - loss: 7.7994 - acc: 0.5108 - val_loss: 7.9712 - val_acc: 0.5000\n",
      "Epoch 45/50\n",
      "8/8 [==============================] - 5s 638ms/step - loss: 7.7994 - acc: 0.5108 - val_loss: 7.9712 - val_acc: 0.5000\n",
      "Epoch 46/50\n",
      "8/8 [==============================] - 5s 631ms/step - loss: 7.1351 - acc: 0.5524 - val_loss: 7.9712 - val_acc: 0.5000\n",
      "Epoch 47/50\n",
      "8/8 [==============================] - 5s 627ms/step - loss: 7.1351 - acc: 0.5524 - val_loss: 7.9712 - val_acc: 0.5000\n",
      "Epoch 48/50\n",
      "8/8 [==============================] - 5s 645ms/step - loss: 7.7994 - acc: 0.5108 - val_loss: 7.9712 - val_acc: 0.5000\n",
      "Epoch 49/50\n",
      "8/8 [==============================] - 5s 634ms/step - loss: 7.7994 - acc: 0.5108 - val_loss: 7.9712 - val_acc: 0.5000\n",
      "Epoch 50/50\n",
      "8/8 [==============================] - 5s 633ms/step - loss: 7.1351 - acc: 0.5524 - val_loss: 7.9712 - val_acc: 0.5000\n"
     ]
    }
   ],
   "source": [
    "H = model.fit_generator(\n",
    "    entrenamiento_generador,\n",
    "    steps_per_epoch=len(entrenamiento_generador),\n",
    "    epochs=epocas,\n",
    "    validation_data=validacion_generador,\n",
    "    validation_steps=len(validacion_generador))"
   ]
  },
  {
   "cell_type": "code",
   "execution_count": 18,
   "metadata": {},
   "outputs": [
    {
     "name": "stdout",
     "output_type": "stream",
     "text": [
      "Epoch 1/50\n",
      "4/4 [==============================] - 26s 6s/step - loss: 7.4029 - acc: 0.5356 - val_loss: 7.9712 - val_acc: 0.5000\n",
      "Epoch 2/50\n",
      "4/4 [==============================] - 13s 3s/step - loss: 7.6420 - acc: 0.5206 - val_loss: 7.9712 - val_acc: 0.5000\n",
      "Epoch 3/50\n",
      "4/4 [==============================] - 13s 3s/step - loss: 7.4029 - acc: 0.5356 - val_loss: 7.9712 - val_acc: 0.5000\n",
      "Epoch 4/50\n",
      "4/4 [==============================] - 13s 3s/step - loss: 7.5225 - acc: 0.5281 - val_loss: 7.9712 - val_acc: 0.5000\n",
      "Epoch 5/50\n",
      "4/4 [==============================] - 13s 3s/step - loss: 7.5823 - acc: 0.5244 - val_loss: 7.9712 - val_acc: 0.5000\n",
      "Epoch 6/50\n",
      "4/4 [==============================] - 13s 3s/step - loss: 7.3431 - acc: 0.5394 - val_loss: 7.9712 - val_acc: 0.5000\n",
      "Epoch 7/50\n",
      "4/4 [==============================] - 13s 3s/step - loss: 7.5823 - acc: 0.5244 - val_loss: 7.9712 - val_acc: 0.5000\n",
      "Epoch 8/50\n",
      "4/4 [==============================] - 13s 3s/step - loss: 7.4627 - acc: 0.5319 - val_loss: 7.9712 - val_acc: 0.5000\n",
      "Epoch 9/50\n",
      "4/4 [==============================] - 13s 3s/step - loss: 7.2236 - acc: 0.5469 - val_loss: 7.9712 - val_acc: 0.5000\n",
      "Epoch 10/50\n",
      "4/4 [==============================] - 13s 3s/step - loss: 7.5225 - acc: 0.5281 - val_loss: 7.9712 - val_acc: 0.5000\n",
      "Epoch 11/50\n",
      "4/4 [==============================] - 13s 3s/step - loss: 7.1638 - acc: 0.5506 - val_loss: 7.9712 - val_acc: 0.5000\n",
      "Epoch 12/50\n",
      "4/4 [==============================] - 13s 3s/step - loss: 7.4627 - acc: 0.5319 - val_loss: 7.9712 - val_acc: 0.5000\n",
      "Epoch 13/50\n",
      "4/4 [==============================] - 13s 3s/step - loss: 7.4029 - acc: 0.5356 - val_loss: 7.9712 - val_acc: 0.5000\n",
      "Epoch 14/50\n",
      "4/4 [==============================] - 13s 3s/step - loss: 7.3431 - acc: 0.5394 - val_loss: 7.9712 - val_acc: 0.5000\n",
      "Epoch 15/50\n",
      "4/4 [==============================] - 13s 3s/step - loss: 7.3431 - acc: 0.5394 - val_loss: 7.9712 - val_acc: 0.5000\n",
      "Epoch 16/50\n",
      "4/4 [==============================] - 13s 3s/step - loss: 7.3431 - acc: 0.5394 - val_loss: 7.9712 - val_acc: 0.5000\n",
      "Epoch 17/50\n",
      "4/4 [==============================] - 13s 3s/step - loss: 7.3431 - acc: 0.5394 - val_loss: 7.9712 - val_acc: 0.5000\n",
      "Epoch 18/50\n",
      "4/4 [==============================] - 13s 3s/step - loss: 7.3431 - acc: 0.5394 - val_loss: 7.9712 - val_acc: 0.5000\n",
      "Epoch 19/50\n",
      "4/4 [==============================] - 13s 3s/step - loss: 7.3431 - acc: 0.5394 - val_loss: 7.9712 - val_acc: 0.5000\n",
      "Epoch 20/50\n",
      "4/4 [==============================] - 13s 3s/step - loss: 7.4029 - acc: 0.5356 - val_loss: 7.9712 - val_acc: 0.5000\n",
      "Epoch 21/50\n",
      "4/4 [==============================] - 13s 3s/step - loss: 7.5823 - acc: 0.5244 - val_loss: 7.9712 - val_acc: 0.5000\n",
      "Epoch 22/50\n",
      "4/4 [==============================] - 13s 3s/step - loss: 7.4627 - acc: 0.5319 - val_loss: 7.9712 - val_acc: 0.5000\n",
      "Epoch 23/50\n",
      "4/4 [==============================] - 13s 3s/step - loss: 7.4627 - acc: 0.5319 - val_loss: 7.9712 - val_acc: 0.5000\n",
      "Epoch 24/50\n",
      "4/4 [==============================] - 13s 3s/step - loss: 7.3431 - acc: 0.5394 - val_loss: 7.9712 - val_acc: 0.5000\n",
      "Epoch 25/50\n",
      "4/4 [==============================] - 13s 3s/step - loss: 7.3431 - acc: 0.5394 - val_loss: 7.9712 - val_acc: 0.5000\n",
      "Epoch 26/50\n",
      "4/4 [==============================] - 13s 3s/step - loss: 7.6420 - acc: 0.5206 - val_loss: 7.9712 - val_acc: 0.5000\n",
      "Epoch 27/50\n",
      "4/4 [==============================] - 13s 3s/step - loss: 7.5225 - acc: 0.5281 - val_loss: 7.9712 - val_acc: 0.5000\n",
      "Epoch 28/50\n",
      "4/4 [==============================] - 13s 3s/step - loss: 7.5823 - acc: 0.5244 - val_loss: 7.9712 - val_acc: 0.5000\n",
      "Epoch 29/50\n",
      "4/4 [==============================] - 13s 3s/step - loss: 7.5225 - acc: 0.5281 - val_loss: 7.9712 - val_acc: 0.5000\n",
      "Epoch 30/50\n",
      "4/4 [==============================] - 13s 3s/step - loss: 7.3431 - acc: 0.5394 - val_loss: 7.9712 - val_acc: 0.5000\n",
      "Epoch 31/50\n",
      "4/4 [==============================] - 13s 3s/step - loss: 7.2833 - acc: 0.5431 - val_loss: 7.9712 - val_acc: 0.5000\n",
      "Epoch 32/50\n",
      "4/4 [==============================] - 13s 3s/step - loss: 7.5823 - acc: 0.5244 - val_loss: 7.9712 - val_acc: 0.5000\n",
      "Epoch 33/50\n",
      "4/4 [==============================] - 13s 3s/step - loss: 7.4029 - acc: 0.5356 - val_loss: 7.9712 - val_acc: 0.5000\n",
      "Epoch 34/50\n",
      "4/4 [==============================] - 13s 3s/step - loss: 7.4029 - acc: 0.5356 - val_loss: 7.9712 - val_acc: 0.5000\n",
      "Epoch 35/50\n",
      "4/4 [==============================] - 13s 3s/step - loss: 7.4029 - acc: 0.5356 - val_loss: 7.9712 - val_acc: 0.5000\n",
      "Epoch 36/50\n",
      "4/4 [==============================] - 13s 3s/step - loss: 7.5225 - acc: 0.5281 - val_loss: 7.9712 - val_acc: 0.5000\n",
      "Epoch 37/50\n",
      "4/4 [==============================] - 13s 3s/step - loss: 7.4627 - acc: 0.5319 - val_loss: 7.9712 - val_acc: 0.5000\n",
      "Epoch 38/50\n",
      "4/4 [==============================] - 13s 3s/step - loss: 7.5225 - acc: 0.5281 - val_loss: 7.9712 - val_acc: 0.5000\n",
      "Epoch 39/50\n",
      "4/4 [==============================] - 13s 3s/step - loss: 7.4029 - acc: 0.5356 - val_loss: 7.9712 - val_acc: 0.5000\n",
      "Epoch 40/50\n",
      "4/4 [==============================] - 13s 3s/step - loss: 7.5225 - acc: 0.5281 - val_loss: 7.9712 - val_acc: 0.5000\n",
      "Epoch 41/50\n",
      "4/4 [==============================] - 13s 3s/step - loss: 7.4627 - acc: 0.5319 - val_loss: 7.9712 - val_acc: 0.5000\n",
      "Epoch 42/50\n",
      "4/4 [==============================] - 13s 3s/step - loss: 7.3431 - acc: 0.5394 - val_loss: 7.9712 - val_acc: 0.5000\n",
      "Epoch 43/50\n",
      "4/4 [==============================] - 13s 3s/step - loss: 7.4627 - acc: 0.5319 - val_loss: 7.9712 - val_acc: 0.5000\n",
      "Epoch 44/50\n",
      "4/4 [==============================] - 13s 3s/step - loss: 7.2833 - acc: 0.5431 - val_loss: 7.9712 - val_acc: 0.5000\n",
      "Epoch 45/50\n",
      "4/4 [==============================] - 13s 3s/step - loss: 7.5823 - acc: 0.5244 - val_loss: 7.9712 - val_acc: 0.5000\n",
      "Epoch 46/50\n",
      "4/4 [==============================] - 13s 3s/step - loss: 7.1040 - acc: 0.5544 - val_loss: 7.9712 - val_acc: 0.5000\n",
      "Epoch 47/50\n",
      "4/4 [==============================] - 13s 3s/step - loss: 7.5225 - acc: 0.5281 - val_loss: 7.9712 - val_acc: 0.5000\n",
      "Epoch 48/50\n",
      "4/4 [==============================] - 13s 3s/step - loss: 7.2833 - acc: 0.5431 - val_loss: 7.9712 - val_acc: 0.5000\n",
      "Epoch 49/50\n",
      "4/4 [==============================] - 13s 3s/step - loss: 7.4627 - acc: 0.5319 - val_loss: 7.9712 - val_acc: 0.5000\n",
      "Epoch 50/50\n",
      "4/4 [==============================] - 13s 3s/step - loss: 7.5225 - acc: 0.5281 - val_loss: 7.9712 - val_acc: 0.5000\n"
     ]
    }
   ],
   "source": [
    "#batch_size=32\n",
    "H = model.fit_generator(\n",
    "    entrenamiento_generador,\n",
    "    steps_per_epoch=len(entrenamiento_generador),\n",
    "    epochs=epocas,\n",
    "    validation_data=validacion_generador,\n",
    "    validation_steps=18)"
   ]
  },
  {
   "cell_type": "markdown",
   "metadata": {},
   "source": [
    "### Gráficas con resultados del entrenamiento batch_size 16:"
   ]
  },
  {
   "cell_type": "code",
   "execution_count": 14,
   "metadata": {},
   "outputs": [
    {
     "data": {
      "image/png": "[encoded data removed]",
      "text/plain": [
       "<Figure size 432x288 with 1 Axes>"
      ]
     },
     "metadata": {},
     "output_type": "display_data"
    }
   ],
   "source": [
    "import matplotlib.pyplot as plt\n",
    "import numpy as np\n",
    "# plot the training loss and accuracy\n",
    "N = epocas\n",
    "plt.style.use(\"ggplot\")\n",
    "plt.figure()\n",
    "plt.plot(np.arange(0, N), H.history[\"loss\"], label=\"train_loss\")\n",
    "plt.plot(np.arange(0, N), H.history[\"val_loss\"], label=\"val_loss\")\n",
    "plt.plot(np.arange(0, N), H.history[\"acc\"], label=\"train_acc\")\n",
    "plt.plot(np.arange(0, N), H.history[\"val_acc\"], label=\"val_acc\")\n",
    "plt.title(\"Training Loss and Accuracy on Dataset\")\n",
    "plt.xlabel(\"Epoch\")\n",
    "plt.ylabel(\"Loss/Accuracy\")\n",
    "plt.legend(loc=\"lower left\")\n",
    "plt.savefig(\"plot.png\")#Se guarda la gráfica en disco"
   ]
  },
  {
   "cell_type": "markdown",
   "metadata": {},
   "source": [
    "### Gráficas con resultados del entrenamiento batch_size 32:"
   ]
  },
  {
   "cell_type": "code",
   "execution_count": 19,
   "metadata": {},
   "outputs": [
    {
     "data": {
      "image/png": "[encoded data removed]",
      "text/plain": [
       "<Figure size 432x288 with 1 Axes>"
      ]
     },
     "metadata": {},
     "output_type": "display_data"
    }
   ],
   "source": [
    "# plot the training loss and accuracy\n",
    "N = epocas\n",
    "plt.style.use(\"ggplot\")\n",
    "plt.figure()\n",
    "plt.plot(np.arange(0, N), H.history[\"loss\"], label=\"train_loss\")\n",
    "plt.plot(np.arange(0, N), H.history[\"val_loss\"], label=\"val_loss\")\n",
    "plt.plot(np.arange(0, N), H.history[\"acc\"], label=\"train_acc\")\n",
    "plt.plot(np.arange(0, N), H.history[\"val_acc\"], label=\"val_acc\")\n",
    "plt.title(\"Training Loss and Accuracy on Dataset\")\n",
    "plt.xlabel(\"Epoch\")\n",
    "plt.ylabel(\"Loss/Accuracy\")\n",
    "plt.legend(loc=\"lower left\")\n",
    "plt.savefig(\"plot2.png\")#Se guarda la gráfica en disco"
   ]
  },
  {
   "cell_type": "markdown",
   "metadata": {},
   "source": [
    "### Cálculo de la función pérdida:"
   ]
  },
  {
   "cell_type": "markdown",
   "metadata": {},
   "source": [
    "El método evaluate_generator(generator, steps=None, callbacks=None, max_queue_size=10, workers=1, use_multiprocessing=False, verbose=0) se encarga de calcular la función de pérdida dados unos datos de entrada y el nivel de aciertos del modelo para una muestra dada."
   ]
  },
  {
   "cell_type": "code",
   "execution_count": 15,
   "metadata": {},
   "outputs": [
    {
     "name": "stdout",
     "output_type": "stream",
     "text": [
      "10/10 [==============================] - 4s 369ms/step\n",
      "Test accuracy: 0.5\n",
      "Loss: 7.971192734582083\n"
     ]
    }
   ],
   "source": [
    "score = model.evaluate_generator(validacion_generador, steps=pasos, verbose=1)\n",
    "print('Test accuracy:', score[1])\n",
    "print('Loss:', score[0])"
   ]
  },
  {
   "cell_type": "markdown",
   "metadata": {},
   "source": [
    "### Guardar el modelo entrenado:"
   ]
  },
  {
   "cell_type": "markdown",
   "metadata": {},
   "source": [
    "Para no tener que entrenar la red neuronal creada cada vez que se quiera usar, se crea un archivo donde se guarda el modelo creado, y otro donde se guardan los pesos obtenidos para las neuronas después del entranmiento."
   ]
  },
  {
   "cell_type": "code",
   "execution_count": null,
   "metadata": {},
   "outputs": [],
   "source": [
    "import os \n",
    "dir = './InceptionResNetV2_OliGram_Prueba/'\n",
    "if not os.path.exists(dir):\n",
    "    os.mkdir(dir)\n",
    "model.save('./InceptionResNetV2_OliGram_Prueba/modelo_InceptionResNetV2.h5')#Se guarda la estructura de la cnn\n",
    "model.save_weights('./InceptionResNetV2_OliGram_Prueba/pesos_InceptionResNetV2.h5')#Se guardan los pesos de la cnn"
   ]
  },
  {
   "cell_type": "markdown",
   "metadata": {},
   "source": [
    "### Pruebas de clasificación:"
   ]
  },
  {
   "cell_type": "code",
   "execution_count": null,
   "metadata": {},
   "outputs": [],
   "source": [
    "import numpy as np\n",
    "from keras.preprocessing.image import load_img, img_to_array\n",
    "from keras.models import load_model"
   ]
  },
  {
   "cell_type": "markdown",
   "metadata": {},
   "source": [
    "La función load_image() transforma de forma interna las imágenes, tomando como argumento las dimensiones que admiten las arquitecturas implementadas y un método de interpolación. Se recomienda usar métodos de interpolación como bicubic o lanczos, frente a nearest que viene por defecto."
   ]
  },
  {
   "cell_type": "code",
   "execution_count": null,
   "metadata": {},
   "outputs": [],
   "source": [
    "###Función predicción:\n",
    "def predict(file):\n",
    "  x = load_img(file, target_size=(altura, longitud))\n",
    "  x = img_to_array(x)\n",
    "  x = np.expand_dims(x, axis=0) #Zero mean pre-processing, normalize data.\n",
    "  array = model.predict(x)\n",
    "  print(array)  \n",
    "  result = array[0]\n",
    "  print(result)\n",
    "  answer = np.argmax(result)\n",
    "  print(answer)  \n",
    "  if answer == 0:\n",
    "    print(\"pred: Gramineas\")\n",
    "  elif answer == 1:\n",
    "    print(\"pred: Olivo\")\n",
    "  return answer"
   ]
  },
  {
   "cell_type": "code",
   "execution_count": null,
   "metadata": {},
   "outputs": [],
   "source": [
    "predict('olivo1.jpg') #Imagen de olivo"
   ]
  },
  {
   "cell_type": "code",
   "execution_count": null,
   "metadata": {},
   "outputs": [],
   "source": [
    "predict('graminea2.jpg') #Imagen de graminea"
   ]
  },
  {
   "cell_type": "code",
   "execution_count": null,
   "metadata": {},
   "outputs": [],
   "source": [
    "predict('WIN_20190625_21_13_02_Pro.jpg') #Imagen de graminea del dataset de entrenamiento"
   ]
  },
  {
   "cell_type": "code",
   "execution_count": null,
   "metadata": {},
   "outputs": [],
   "source": [
    "predict('olivo4.jpg') #Imagen de olivo"
   ]
  },
  {
   "cell_type": "code",
   "execution_count": null,
   "metadata": {},
   "outputs": [],
   "source": [
    "predict('olivo2.jpg') #Imagen de olivo"
   ]
  },
  {
   "cell_type": "code",
   "execution_count": null,
   "metadata": {},
   "outputs": [],
   "source": [
    "predict('plot.png') #Imagen de"
   ]
  },
  {
   "cell_type": "code",
   "execution_count": null,
   "metadata": {},
   "outputs": [],
   "source": [
    "x = load_img('graminea1.jpg', target_size=(altura, longitud))\n",
    "x = img_to_array(x)\n",
    "x = np.expand_dims(x, axis=0)\n",
    "model.predict(x)"
   ]
  },
  {
   "cell_type": "code",
   "execution_count": null,
   "metadata": {},
   "outputs": [],
   "source": [
    "print(entrenamiento_generador)"
   ]
  }
 ],
 "metadata": {
  "kernelspec": {
   "display_name": "tensorflowGPU",
   "language": "python",
   "name": "tensorflowgpu"
  },
  "language_info": {
   "codemirror_mode": {
    "name": "ipython",
    "version": 3
   },
   "file_extension": ".py",
   "mimetype": "text/x-python",
   "name": "python",
   "nbconvert_exporter": "python",
   "pygments_lexer": "ipython3",
   "version": "3.7.3"
  }
 },
 "nbformat": 4,
 "nbformat_minor": 2
}
